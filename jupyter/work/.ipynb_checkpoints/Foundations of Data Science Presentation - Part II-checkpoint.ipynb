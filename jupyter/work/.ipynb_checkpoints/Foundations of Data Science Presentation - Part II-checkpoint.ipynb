{
 "cells": [
  {
   "cell_type": "code",
   "execution_count": 44,
   "metadata": {},
   "outputs": [],
   "source": [
    "import matplotlib\n",
    "matplotlib.use('Agg')\n",
    "\n",
    "from datascience import Table\n",
    "%matplotlib inline\n",
    "\n",
    "import matplotlib.pyplot as plt\n",
    "from mpl_toolkits.mplot3d import Axes3D\n",
    "\n",
    "import numpy as np\n",
    "plt.style.use('fivethirtyeight')"
   ]
  },
  {
   "cell_type": "code",
   "execution_count": 53,
   "metadata": {},
   "outputs": [
    {
     "data": {
      "text/html": [
       "<table border=\"1\" class=\"dataframe\">\n",
       "    <thead>\n",
       "        <tr>\n",
       "            <th>thickness</th> <th>size_uniformity</th> <th>shape_uniformity</th> <th>adhesion</th> <th>epithelial_size</th> <th>bare_nuclei</th> <th>bland_chromatin</th> <th>normal_nucleoli</th> <th>mitosis</th> <th>class</th>\n",
       "        </tr>\n",
       "    </thead>\n",
       "    <tbody>\n",
       "        <tr>\n",
       "            <td>5        </td> <td>1              </td> <td>1               </td> <td>1       </td> <td>2              </td> <td>1          </td> <td>3              </td> <td>1              </td> <td>1      </td> <td>2    </td>\n",
       "        </tr>\n",
       "        <tr>\n",
       "            <td>5        </td> <td>4              </td> <td>4               </td> <td>5       </td> <td>7              </td> <td>10         </td> <td>3              </td> <td>2              </td> <td>1      </td> <td>2    </td>\n",
       "        </tr>\n",
       "        <tr>\n",
       "            <td>3        </td> <td>1              </td> <td>1               </td> <td>1       </td> <td>2              </td> <td>2          </td> <td>3              </td> <td>1              </td> <td>1      </td> <td>2    </td>\n",
       "        </tr>\n",
       "        <tr>\n",
       "            <td>6        </td> <td>8              </td> <td>8               </td> <td>1       </td> <td>3              </td> <td>4          </td> <td>3              </td> <td>7              </td> <td>1      </td> <td>2    </td>\n",
       "        </tr>\n",
       "        <tr>\n",
       "            <td>4        </td> <td>1              </td> <td>1               </td> <td>3       </td> <td>2              </td> <td>1          </td> <td>3              </td> <td>1              </td> <td>1      </td> <td>2    </td>\n",
       "        </tr>\n",
       "        <tr>\n",
       "            <td>8        </td> <td>10             </td> <td>10              </td> <td>8       </td> <td>7              </td> <td>10         </td> <td>9              </td> <td>7              </td> <td>1      </td> <td>4    </td>\n",
       "        </tr>\n",
       "        <tr>\n",
       "            <td>1        </td> <td>1              </td> <td>1               </td> <td>1       </td> <td>2              </td> <td>10         </td> <td>3              </td> <td>1              </td> <td>1      </td> <td>2    </td>\n",
       "        </tr>\n",
       "        <tr>\n",
       "            <td>2        </td> <td>1              </td> <td>2               </td> <td>1       </td> <td>2              </td> <td>1          </td> <td>3              </td> <td>1              </td> <td>1      </td> <td>2    </td>\n",
       "        </tr>\n",
       "        <tr>\n",
       "            <td>2        </td> <td>1              </td> <td>1               </td> <td>1       </td> <td>2              </td> <td>1          </td> <td>1              </td> <td>1              </td> <td>5      </td> <td>2    </td>\n",
       "        </tr>\n",
       "        <tr>\n",
       "            <td>4        </td> <td>2              </td> <td>1               </td> <td>1       </td> <td>2              </td> <td>1          </td> <td>2              </td> <td>1              </td> <td>1      </td> <td>2    </td>\n",
       "        </tr>\n",
       "    </tbody>\n",
       "</table>\n",
       "<p>... (673 rows omitted)</p>"
      ],
      "text/plain": [
       "thickness | size_uniformity | shape_uniformity | adhesion | epithelial_size | bare_nuclei | bland_chromatin | normal_nucleoli | mitosis | class\n",
       "5         | 1               | 1                | 1        | 2               | 1           | 3               | 1               | 1       | 2\n",
       "5         | 4               | 4                | 5        | 7               | 10          | 3               | 2               | 1       | 2\n",
       "3         | 1               | 1                | 1        | 2               | 2           | 3               | 1               | 1       | 2\n",
       "6         | 8               | 8                | 1        | 3               | 4           | 3               | 7               | 1       | 2\n",
       "4         | 1               | 1                | 3        | 2               | 1           | 3               | 1               | 1       | 2\n",
       "8         | 10              | 10               | 8        | 7               | 10          | 9               | 7               | 1       | 4\n",
       "1         | 1               | 1                | 1        | 2               | 10          | 3               | 1               | 1       | 2\n",
       "2         | 1               | 2                | 1        | 2               | 1           | 3               | 1               | 1       | 2\n",
       "2         | 1               | 1                | 1        | 2               | 1           | 1               | 1               | 5       | 2\n",
       "4         | 2               | 1                | 1        | 2               | 1           | 2               | 1               | 1       | 2\n",
       "... (673 rows omitted)"
      ]
     },
     "execution_count": 53,
     "metadata": {},
     "output_type": "execute_result"
    }
   ],
   "source": [
    "patients = Table.read_table('/home/jovyan/work/datasets/breast-cancer-wisconsin.csv', dtype=np.int32).drop('id')\n",
    "patients\n"
   ]
  },
  {
   "cell_type": "code",
   "execution_count": 54,
   "metadata": {},
   "outputs": [
    {
     "data": {
      "image/png": "[encoded data removed]",
      "text/plain": [
       "<Figure size 360x360 with 1 Axes>"
      ]
     },
     "metadata": {},
     "output_type": "display_data"
    }
   ],
   "source": [
    "patients.scatter('bland_chromatin', 'epithelial_size', colors ='class')"
   ]
  },
  {
   "cell_type": "code",
   "execution_count": 55,
   "metadata": {},
   "outputs": [
    {
     "data": {
      "image/png": "[encoded data removed]",
      "text/plain": [
       "<Figure size 360x360 with 1 Axes>"
      ]
     },
     "metadata": {},
     "output_type": "display_data"
    }
   ],
   "source": [
    "def randomize_columns(a):\n",
    "    return a + np.random.normal(0.0,0.09,size=len(a))\n",
    "\n",
    "jittered = Table().with_columns([\n",
    "    'bland_chromatin', \n",
    "    randomize_columns(patients.column('bland_chromatin')),\n",
    "    'epithelial_size', \n",
    "    randomize_columns(patients.column('epithelial_size')),\n",
    "    'class',\n",
    "    patients.column('class')\n",
    "])\n",
    "\n",
    "jittered.scatter('bland_chromatin', 'epithelial_size', colors ='class')"
   ]
  },
  {
   "cell_type": "code",
   "execution_count": 56,
   "metadata": {},
   "outputs": [],
   "source": [
    "def distance(pt1, pt2):\n",
    "    return np.sqrt(sum((pt1 - pt2) ** 2))\n",
    "    \n",
    "def row_distance(row1,row2):\n",
    "    return distance( np.array(row1),  np.array(row2))"
   ]
  },
  {
   "cell_type": "code",
   "execution_count": 57,
   "metadata": {},
   "outputs": [
    {
     "data": {
      "text/html": [
       "<table border=\"1\" class=\"dataframe\">\n",
       "    <thead>\n",
       "        <tr>\n",
       "            <th>thickness</th> <th>size_uniformity</th> <th>shape_uniformity</th> <th>adhesion</th> <th>epithelial_size</th> <th>bare_nuclei</th> <th>bland_chromatin</th> <th>normal_nucleoli</th> <th>mitosis</th>\n",
       "        </tr>\n",
       "    </thead>\n",
       "    <tbody>\n",
       "        <tr>\n",
       "            <td>5        </td> <td>1              </td> <td>1               </td> <td>1       </td> <td>2              </td> <td>1          </td> <td>3              </td> <td>1              </td> <td>1      </td>\n",
       "        </tr>\n",
       "        <tr>\n",
       "            <td>5        </td> <td>4              </td> <td>4               </td> <td>5       </td> <td>7              </td> <td>10         </td> <td>3              </td> <td>2              </td> <td>1      </td>\n",
       "        </tr>\n",
       "        <tr>\n",
       "            <td>3        </td> <td>1              </td> <td>1               </td> <td>1       </td> <td>2              </td> <td>2          </td> <td>3              </td> <td>1              </td> <td>1      </td>\n",
       "        </tr>\n",
       "    </tbody>\n",
       "</table>\n",
       "<p>... (680 rows omitted)</p>"
      ],
      "text/plain": [
       "<IPython.core.display.HTML object>"
      ]
     },
     "metadata": {},
     "output_type": "display_data"
    }
   ],
   "source": [
    "attributes = patients.drop('class')\n",
    "attributes.show(3)"
   ]
  },
  {
   "cell_type": "code",
   "execution_count": 58,
   "metadata": {},
   "outputs": [
    {
     "data": {
      "text/plain": [
       "11.874342087037917"
      ]
     },
     "execution_count": 58,
     "metadata": {},
     "output_type": "execute_result"
    }
   ],
   "source": [
    "row_distance(attributes.row(0),attributes.row(1))"
   ]
  },
  {
   "cell_type": "code",
   "execution_count": 59,
   "metadata": {},
   "outputs": [
    {
     "data": {
      "text/plain": [
       "2.23606797749979"
      ]
     },
     "execution_count": 59,
     "metadata": {},
     "output_type": "execute_result"
    }
   ],
   "source": [
    "row_distance(attributes.row(0),attributes.row(2))"
   ]
  },
  {
   "cell_type": "code",
   "execution_count": 60,
   "metadata": {},
   "outputs": [
    {
     "data": {
      "text/plain": [
       "0.0"
      ]
     },
     "execution_count": 60,
     "metadata": {},
     "output_type": "execute_result"
    }
   ],
   "source": [
    "row_distance(attributes.row(0),attributes.row(0))"
   ]
  },
  {
   "cell_type": "code",
   "execution_count": 67,
   "metadata": {},
   "outputs": [],
   "source": [
    "def distances(training,example):\n",
    "    dists = []\n",
    "    attributes = training.drop('class')\n",
    "    for row in attributes.rows:\n",
    "        dist = row_distance(row, example)\n",
    "        dists.append(dist)\n",
    "    return training.with_column('distance',dists)"
   ]
  },
  {
   "cell_type": "code",
   "execution_count": 68,
   "metadata": {},
   "outputs": [],
   "source": [
    "def closest(training, example, k):\n",
    "    return distances(training, example).sort('distance').take(np.arange(k))"
   ]
  },
  {
   "cell_type": "code",
   "execution_count": 79,
   "metadata": {},
   "outputs": [
    {
     "data": {
      "text/html": [
       "<table border=\"1\" class=\"dataframe\">\n",
       "    <thead>\n",
       "        <tr>\n",
       "            <th>thickness</th> <th>size_uniformity</th> <th>shape_uniformity</th> <th>adhesion</th> <th>epithelial_size</th> <th>bare_nuclei</th> <th>bland_chromatin</th> <th>normal_nucleoli</th> <th>mitosis</th> <th>class</th>\n",
       "        </tr>\n",
       "    </thead>\n",
       "    <tbody>\n",
       "        <tr>\n",
       "            <td>4        </td> <td>2              </td> <td>1               </td> <td>1       </td> <td>2              </td> <td>1          </td> <td>2              </td> <td>1              </td> <td>1      </td> <td>2    </td>\n",
       "        </tr>\n",
       "    </tbody>\n",
       "</table>"
      ],
      "text/plain": [
       "thickness | size_uniformity | shape_uniformity | adhesion | epithelial_size | bare_nuclei | bland_chromatin | normal_nucleoli | mitosis | class\n",
       "4         | 2               | 1                | 1        | 2               | 1           | 2               | 1               | 1       | 2"
      ]
     },
     "execution_count": 79,
     "metadata": {},
     "output_type": "execute_result"
    }
   ],
   "source": [
    "patients.take(9)"
   ]
  },
  {
   "cell_type": "code",
   "execution_count": 80,
   "metadata": {},
   "outputs": [
    {
     "data": {
      "text/plain": [
       "Row(thickness=4, size_uniformity=2, shape_uniformity=1, adhesion=1, epithelial_size=2, bare_nuclei=1, bland_chromatin=2, normal_nucleoli=1, mitosis=1)"
      ]
     },
     "execution_count": 80,
     "metadata": {},
     "output_type": "execute_result"
    }
   ],
   "source": [
    "example = patients.drop('class').row(9)\n",
    "example"
   ]
  },
  {
   "cell_type": "code",
   "execution_count": 81,
   "metadata": {},
   "outputs": [
    {
     "data": {
      "text/html": [
       "<table border=\"1\" class=\"dataframe\">\n",
       "    <thead>\n",
       "        <tr>\n",
       "            <th>thickness</th> <th>size_uniformity</th> <th>shape_uniformity</th> <th>adhesion</th> <th>epithelial_size</th> <th>bare_nuclei</th> <th>bland_chromatin</th> <th>normal_nucleoli</th> <th>mitosis</th> <th>class</th> <th>distance</th>\n",
       "        </tr>\n",
       "    </thead>\n",
       "    <tbody>\n",
       "        <tr>\n",
       "            <td>4        </td> <td>1              </td> <td>1               </td> <td>1       </td> <td>2              </td> <td>1          </td> <td>2              </td> <td>1              </td> <td>1      </td> <td>2    </td> <td>1       </td>\n",
       "        </tr>\n",
       "        <tr>\n",
       "            <td>4        </td> <td>1              </td> <td>1               </td> <td>1       </td> <td>2              </td> <td>1          </td> <td>2              </td> <td>1              </td> <td>1      </td> <td>2    </td> <td>1       </td>\n",
       "        </tr>\n",
       "        <tr>\n",
       "            <td>4        </td> <td>2              </td> <td>2               </td> <td>1       </td> <td>2              </td> <td>1          </td> <td>2              </td> <td>1              </td> <td>1      </td> <td>2    </td> <td>1       </td>\n",
       "        </tr>\n",
       "        <tr>\n",
       "            <td>4        </td> <td>2              </td> <td>1               </td> <td>1       </td> <td>2              </td> <td>1          </td> <td>1              </td> <td>1              </td> <td>1      </td> <td>2    </td> <td>1       </td>\n",
       "        </tr>\n",
       "        <tr>\n",
       "            <td>4        </td> <td>1              </td> <td>1               </td> <td>1       </td> <td>2              </td> <td>1          </td> <td>2              </td> <td>1              </td> <td>1      </td> <td>2    </td> <td>1       </td>\n",
       "        </tr>\n",
       "    </tbody>\n",
       "</table>"
      ],
      "text/plain": [
       "thickness | size_uniformity | shape_uniformity | adhesion | epithelial_size | bare_nuclei | bland_chromatin | normal_nucleoli | mitosis | class | distance\n",
       "4         | 1               | 1                | 1        | 2               | 1           | 2               | 1               | 1       | 2     | 1\n",
       "4         | 1               | 1                | 1        | 2               | 1           | 2               | 1               | 1       | 2     | 1\n",
       "4         | 2               | 2                | 1        | 2               | 1           | 2               | 1               | 1       | 2     | 1\n",
       "4         | 2               | 1                | 1        | 2               | 1           | 1               | 1               | 1       | 2     | 1\n",
       "4         | 1               | 1                | 1        | 2               | 1           | 2               | 1               | 1       | 2     | 1"
      ]
     },
     "execution_count": 81,
     "metadata": {},
     "output_type": "execute_result"
    }
   ],
   "source": [
    "closest(patients.exclude(9), example, 5)"
   ]
  },
  {
   "cell_type": "code",
   "execution_count": 87,
   "metadata": {},
   "outputs": [],
   "source": [
    "def majority_class(neighbors):\n",
    "    return neighbors.group('class').sort('count', descending=True).column('class').item(0)\n",
    "\n",
    "def classify(training, example, k):\n",
    "    nearest_neighbors = closest(training, example, k)\n",
    "    return majority_class(nearest_neighbors)"
   ]
  },
  {
   "cell_type": "code",
   "execution_count": 88,
   "metadata": {},
   "outputs": [
    {
     "data": {
      "text/plain": [
       "2"
      ]
     },
     "execution_count": 88,
     "metadata": {},
     "output_type": "execute_result"
    }
   ],
   "source": [
    "classify(patients.exclude(9), example, 5)"
   ]
  },
  {
   "cell_type": "code",
   "execution_count": 91,
   "metadata": {},
   "outputs": [
    {
     "data": {
      "text/plain": [
       "683"
      ]
     },
     "execution_count": 91,
     "metadata": {},
     "output_type": "execute_result"
    }
   ],
   "source": [
    "patients.num_rows"
   ]
  },
  {
   "cell_type": "code",
   "execution_count": 102,
   "metadata": {},
   "outputs": [],
   "source": [
    "shuffled = patients.sample(with_replacement=False)\n",
    "\n",
    "trainset = shuffled.take(range(0,342))\n",
    "testset = shuffled.take(range(342, 683))\n",
    "\n",
    "def evaluate_accuracy(training, test, k):\n",
    "    test_attributes = test.drop('class')\n",
    "    numcorrect = 0\n",
    "    for i in range(test.num_rows):\n",
    "        test_patient = test_attributes.row(i)\n",
    "        c = classify(training, test_patient, k)\n",
    "        if c == test.column('class').item(i):\n",
    "            numcorrect = numcorrect + 1\n",
    "    return numcorrect / test.num_rows"
   ]
  },
  {
   "cell_type": "code",
   "execution_count": 104,
   "metadata": {},
   "outputs": [
    {
     "data": {
      "text/plain": [
       "0.9648093841642229"
      ]
     },
     "execution_count": 104,
     "metadata": {},
     "output_type": "execute_result"
    }
   ],
   "source": [
    "evaluate_accuracy(trainset,testset,5)"
   ]
  },
  {
   "cell_type": "code",
   "execution_count": 106,
   "metadata": {},
   "outputs": [
    {
     "data": {
      "text/plain": [
       "0.9560117302052786"
      ]
     },
     "execution_count": 106,
     "metadata": {},
     "output_type": "execute_result"
    }
   ],
   "source": [
    "evaluate_accuracy(trainset,testset,1)"
   ]
  },
  {
   "cell_type": "code",
   "execution_count": null,
   "metadata": {},
   "outputs": [],
   "source": [
    "evaluate_accuracy(trainset,trainset,5)"
   ]
  }
 ],
 "metadata": {
  "kernelspec": {
   "display_name": "Python 3",
   "language": "python",
   "name": "python3"
  },
  "language_info": {
   "codemirror_mode": {
    "name": "ipython",
    "version": 3
   },
   "file_extension": ".py",
   "mimetype": "text/x-python",
   "name": "python",
   "nbconvert_exporter": "python",
   "pygments_lexer": "ipython3",
   "version": "3.7.1"
  }
 },
 "nbformat": 4,
 "nbformat_minor": 2
}
