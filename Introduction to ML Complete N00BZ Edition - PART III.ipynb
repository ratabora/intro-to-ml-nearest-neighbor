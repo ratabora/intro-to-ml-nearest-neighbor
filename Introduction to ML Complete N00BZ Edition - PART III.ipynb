{
 "cells": [
  {
   "cell_type": "code",
   "execution_count": 113,
   "metadata": {},
   "outputs": [],
   "source": [
    "import matplotlib.pyplot as plt\n",
    "from mpl_toolkits.mplot3d import Axes3D\n",
    "import numpy as np\n",
    "from datascience import Table\n",
    "from annoy import AnnoyIndex"
   ]
  },
  {
   "cell_type": "markdown",
   "metadata": {},
   "source": [
    "# Exploration"
   ]
  },
  {
   "cell_type": "code",
   "execution_count": 116,
   "metadata": {},
   "outputs": [
    {
     "data": {
      "text/html": [
       "<table border=\"1\" class=\"dataframe\">\n",
       "    <thead>\n",
       "        <tr>\n",
       "            <th>genre</th> <th>track_id</th> <th>artist_name</th> <th>title</th> <th>loudness</th> <th>tempo</th> <th>time_signature</th> <th>key</th> <th>mode</th> <th>duration</th> <th>avg_timbre1</th> <th>avg_timbre2</th> <th>avg_timbre3</th> <th>avg_timbre4</th> <th>avg_timbre5</th> <th>avg_timbre6</th> <th>avg_timbre7</th> <th>avg_timbre8</th> <th>avg_timbre9</th> <th>avg_timbre10</th> <th>avg_timbre11</th> <th>avg_timbre12</th> <th>var_timbre1</th> <th>var_timbre2</th> <th>var_timbre3</th> <th>var_timbre4</th> <th>var_timbre5</th> <th>var_timbre6</th> <th>var_timbre7</th> <th>var_timbre8</th> <th>var_timbre9</th> <th>var_timbre10</th> <th>var_timbre11</th> <th>var_timbre12</th>\n",
       "        </tr>\n",
       "    </thead>\n",
       "    <tbody>\n",
       "        <tr>\n",
       "            <td>classic pop and rock</td> <td>TRFCOOU128F427AEC0</td> <td>Blue Oyster Cult</td> <td>Mes Dames Sarat           </td> <td>-8.697  </td> <td>155.007</td> <td>1             </td> <td>9   </td> <td>1   </td> <td>246.334 </td> <td>46.6731    </td> <td>14.6137    </td> <td>14.6642    </td> <td>0.176561   </td> <td>-9.34638   </td> <td>-12.3417   </td> <td>11.1834    </td> <td>7.40529    </td> <td>9.31377    </td> <td>3.20117     </td> <td>-0.152734   </td> <td>5.80971     </td> <td>14.9308    </td> <td>802.206    </td> <td>1255.51    </td> <td>580.03     </td> <td>598.485    </td> <td>575.338    </td> <td>322.069    </td> <td>321.726    </td> <td>232.701    </td> <td>186.805     </td> <td>181.939     </td> <td>151.508     </td>\n",
       "        </tr>\n",
       "        <tr>\n",
       "            <td>classic pop and rock</td> <td>TRNJTPB128F427AE9F</td> <td>Blue Oyster Cult</td> <td>Screams                   </td> <td>-10.659 </td> <td>148.462</td> <td>1             </td> <td>4   </td> <td>0   </td> <td>189.805 </td> <td>43.6454    </td> <td>-87.3372   </td> <td>41.0516    </td> <td>7.81477    </td> <td>-12.9898   </td> <td>-14.2536   </td> <td>6.12605    </td> <td>-2.44866   </td> <td>22.6917    </td> <td>-2.87271    </td> <td>1.42772     </td> <td>-6.71073    </td> <td>22.7048    </td> <td>1561.31    </td> <td>2007.65    </td> <td>1043.47    </td> <td>585.695    </td> <td>564.014    </td> <td>510.177    </td> <td>400.2      </td> <td>365.12     </td> <td>238.1       </td> <td>197.934     </td> <td>251.578     </td>\n",
       "        </tr>\n",
       "        <tr>\n",
       "            <td>classic pop and rock</td> <td>TRLFJHA128F427AEEA</td> <td>Blue Oyster Cult</td> <td>Dance The Night Away      </td> <td>-13.494 </td> <td>112.909</td> <td>1             </td> <td>10  </td> <td>0   </td> <td>158.197 </td> <td>37.5735    </td> <td>-61.202    </td> <td>28.7605    </td> <td>-13.7881   </td> <td>10.0623    </td> <td>-4.87203   </td> <td>-14.0902   </td> <td>5.58017    </td> <td>15.414     </td> <td>4.55614     </td> <td>-1.87736    </td> <td>20.8795     </td> <td>58.4596    </td> <td>4644       </td> <td>1204.86    </td> <td>2736.52    </td> <td>730.233    </td> <td>665.203    </td> <td>535.775    </td> <td>439.335    </td> <td>486.823    </td> <td>265.334     </td> <td>447.098     </td> <td>251.881     </td>\n",
       "        </tr>\n",
       "        <tr>\n",
       "            <td>classic pop and rock</td> <td>TRCQZAG128F427DB97</td> <td>Blue Oyster Cult</td> <td>Debbie Denise             </td> <td>-12.786 </td> <td>117.429</td> <td>4             </td> <td>7   </td> <td>1   </td> <td>250.226 </td> <td>42.5666    </td> <td>17.2179    </td> <td>53.4842    </td> <td>1.56436    </td> <td>-8.88463   </td> <td>-13.0889   </td> <td>-9.76262   </td> <td>1.37377    </td> <td>1.09288    </td> <td>1.47949     </td> <td>1.51701     </td> <td>8.56262     </td> <td>22.5755    </td> <td>691.141    </td> <td>809.756    </td> <td>563.908    </td> <td>492.804    </td> <td>378.383    </td> <td>372.875    </td> <td>231.942    </td> <td>246.313    </td> <td>168.4       </td> <td>85.2825     </td> <td>339.897     </td>\n",
       "        </tr>\n",
       "        <tr>\n",
       "            <td>classic pop and rock</td> <td>TRNXMNM128F427DB8C</td> <td>Blue Oyster Cult</td> <td>(Don't Fear) The Reaper   </td> <td>-14.093 </td> <td>141.536</td> <td>4             </td> <td>9   </td> <td>0   </td> <td>307.069 </td> <td>40.9765    </td> <td>-13.6098   </td> <td>39.5662    </td> <td>-5.60203   </td> <td>-17.7548   </td> <td>-21.8333   </td> <td>-5.60073   </td> <td>2.29177    </td> <td>3.52618    </td> <td>1.53545     </td> <td>2.76396     </td> <td>3.38876     </td> <td>34.295     </td> <td>1062.18    </td> <td>1093.68    </td> <td>343.556    </td> <td>889.163    </td> <td>218.112    </td> <td>304.863    </td> <td>178.352    </td> <td>440.479    </td> <td>142.669     </td> <td>81.0613     </td> <td>208.355     </td>\n",
       "        </tr>\n",
       "        <tr>\n",
       "            <td>classic pop and rock</td> <td>TRSIZRN128F427DB95</td> <td>Blue Oyster Cult</td> <td>Morning Final             </td> <td>-11.952 </td> <td>100.901</td> <td>1             </td> <td>0   </td> <td>1   </td> <td>254.171 </td> <td>43.7468    </td> <td>31.7759    </td> <td>66.5329    </td> <td>10.6318    </td> <td>-26.1899   </td> <td>-15.6867   </td> <td>8.85909    </td> <td>5.25387    </td> <td>-13.5654   </td> <td>-1.14134    </td> <td>0.976797    </td> <td>-3.24539    </td> <td>11.0028    </td> <td>841.385    </td> <td>1359.19    </td> <td>384.056    </td> <td>864.368    </td> <td>360.172    </td> <td>326.569    </td> <td>220.122    </td> <td>283.251    </td> <td>172.577     </td> <td>82.7635     </td> <td>326.986     </td>\n",
       "        </tr>\n",
       "        <tr>\n",
       "            <td>classic pop and rock</td> <td>TRDYTEO128F427DB90</td> <td>Blue Oyster Cult</td> <td>The Revenge Of Vera Gemini</td> <td>-11.839 </td> <td>132.361</td> <td>4             </td> <td>2   </td> <td>1   </td> <td>230.321 </td> <td>43.2236    </td> <td>22.4052    </td> <td>25.6057    </td> <td>-4.72591   </td> <td>-21.8132   </td> <td>-20.1433   </td> <td>-6.36565   </td> <td>7.3555     </td> <td>1.95975    </td> <td>3.06832     </td> <td>1.07331     </td> <td>3.09223     </td> <td>24.6985    </td> <td>1051.75    </td> <td>1091.71    </td> <td>502.409    </td> <td>874.806    </td> <td>408.554    </td> <td>319.442    </td> <td>290.918    </td> <td>311.695    </td> <td>240.332     </td> <td>109.616     </td> <td>201.445     </td>\n",
       "        </tr>\n",
       "        <tr>\n",
       "            <td>classic pop and rock</td> <td>TRKSICM128F427DB8B</td> <td>Blue Oyster Cult</td> <td>True Confessions          </td> <td>-13.76  </td> <td>121.001</td> <td>4             </td> <td>10  </td> <td>1   </td> <td>177.554 </td> <td>40.6299    </td> <td>-13.8975   </td> <td>49.3046    </td> <td>5.80376    </td> <td>-34.4409   </td> <td>-4.08189   </td> <td>-10.0995   </td> <td>1.76456    </td> <td>6.79743    </td> <td>2.96244     </td> <td>5.16498     </td> <td>11.3743     </td> <td>43.4517    </td> <td>866.207    </td> <td>1318.65    </td> <td>505.414    </td> <td>571.176    </td> <td>513.285    </td> <td>277.559    </td> <td>293.769    </td> <td>334.108    </td> <td>184.003     </td> <td>153.88      </td> <td>214.219     </td>\n",
       "        </tr>\n",
       "        <tr>\n",
       "            <td>classic pop and rock</td> <td>TRCJRAM128F934658C</td> <td>Blue Oyster Cult</td> <td>Out Of Stadion - Original </td> <td>-18.054 </td> <td>70.724 </td> <td>4             </td> <td>11  </td> <td>1   </td> <td>81.2404 </td> <td>37.198     </td> <td>-17.737    </td> <td>46.6581    </td> <td>-12.7808   </td> <td>-4.34941   </td> <td>-20.7362   </td> <td>-2.15691   </td> <td>-0.6854    </td> <td>13.3936    </td> <td>3.07068     </td> <td>-0.0495286  </td> <td>8.40667     </td> <td>15.8908    </td> <td>1242.78    </td> <td>438.026    </td> <td>1593.67    </td> <td>206.532    </td> <td>291.643    </td> <td>265.495    </td> <td>449.678    </td> <td>165.293    </td> <td>176.428     </td> <td>137.506     </td> <td>98.5108     </td>\n",
       "        </tr>\n",
       "        <tr>\n",
       "            <td>classic pop and rock</td> <td>TRIERYM128F934657C</td> <td>Blue Oyster Cult</td> <td>Ginger Snaps - Original   </td> <td>-20.142 </td> <td>142.76 </td> <td>3             </td> <td>11  </td> <td>0   </td> <td>94.2493 </td> <td>34.8471    </td> <td>-28.4297   </td> <td>42.3055    </td> <td>-10.6478   </td> <td>-7.31673   </td> <td>-27.315    </td> <td>-1.13492   </td> <td>1.70049    </td> <td>6.69704    </td> <td>4.26274     </td> <td>0.366006    </td> <td>8.36433     </td> <td>22.0162    </td> <td>7838.32    </td> <td>1154.65    </td> <td>1091.28    </td> <td>928.228    </td> <td>215.512    </td> <td>303.548    </td> <td>195.967    </td> <td>391.368    </td> <td>92.6107     </td> <td>152.654     </td> <td>204.461     </td>\n",
       "        </tr>\n",
       "    </tbody>\n",
       "</table>\n",
       "<p>... (59590 rows omitted)</p>"
      ],
      "text/plain": [
       "genre                | track_id           | artist_name      | title                      | loudness | tempo   | time_signature | key  | mode | duration | avg_timbre1 | avg_timbre2 | avg_timbre3 | avg_timbre4 | avg_timbre5 | avg_timbre6 | avg_timbre7 | avg_timbre8 | avg_timbre9 | avg_timbre10 | avg_timbre11 | avg_timbre12 | var_timbre1 | var_timbre2 | var_timbre3 | var_timbre4 | var_timbre5 | var_timbre6 | var_timbre7 | var_timbre8 | var_timbre9 | var_timbre10 | var_timbre11 | var_timbre12\n",
       "classic pop and rock | TRFCOOU128F427AEC0 | Blue Oyster Cult | Mes Dames Sarat            | -8.697   | 155.007 | 1              | 9    | 1    | 246.334  | 46.6731     | 14.6137     | 14.6642     | 0.176561    | -9.34638    | -12.3417    | 11.1834     | 7.40529     | 9.31377     | 3.20117      | -0.152734    | 5.80971      | 14.9308     | 802.206     | 1255.51     | 580.03      | 598.485     | 575.338     | 322.069     | 321.726     | 232.701     | 186.805      | 181.939      | 151.508\n",
       "classic pop and rock | TRNJTPB128F427AE9F | Blue Oyster Cult | Screams                    | -10.659  | 148.462 | 1              | 4    | 0    | 189.805  | 43.6454     | -87.3372    | 41.0516     | 7.81477     | -12.9898    | -14.2536    | 6.12605     | -2.44866    | 22.6917     | -2.87271     | 1.42772      | -6.71073     | 22.7048     | 1561.31     | 2007.65     | 1043.47     | 585.695     | 564.014     | 510.177     | 400.2       | 365.12      | 238.1        | 197.934      | 251.578\n",
       "classic pop and rock | TRLFJHA128F427AEEA | Blue Oyster Cult | Dance The Night Away       | -13.494  | 112.909 | 1              | 10   | 0    | 158.197  | 37.5735     | -61.202     | 28.7605     | -13.7881    | 10.0623     | -4.87203    | -14.0902    | 5.58017     | 15.414      | 4.55614      | -1.87736     | 20.8795      | 58.4596     | 4644        | 1204.86     | 2736.52     | 730.233     | 665.203     | 535.775     | 439.335     | 486.823     | 265.334      | 447.098      | 251.881\n",
       "classic pop and rock | TRCQZAG128F427DB97 | Blue Oyster Cult | Debbie Denise              | -12.786  | 117.429 | 4              | 7    | 1    | 250.226  | 42.5666     | 17.2179     | 53.4842     | 1.56436     | -8.88463    | -13.0889    | -9.76262    | 1.37377     | 1.09288     | 1.47949      | 1.51701      | 8.56262      | 22.5755     | 691.141     | 809.756     | 563.908     | 492.804     | 378.383     | 372.875     | 231.942     | 246.313     | 168.4        | 85.2825      | 339.897\n",
       "classic pop and rock | TRNXMNM128F427DB8C | Blue Oyster Cult | (Don't Fear) The Reaper    | -14.093  | 141.536 | 4              | 9    | 0    | 307.069  | 40.9765     | -13.6098    | 39.5662     | -5.60203    | -17.7548    | -21.8333    | -5.60073    | 2.29177     | 3.52618     | 1.53545      | 2.76396      | 3.38876      | 34.295      | 1062.18     | 1093.68     | 343.556     | 889.163     | 218.112     | 304.863     | 178.352     | 440.479     | 142.669      | 81.0613      | 208.355\n",
       "classic pop and rock | TRSIZRN128F427DB95 | Blue Oyster Cult | Morning Final              | -11.952  | 100.901 | 1              | 0    | 1    | 254.171  | 43.7468     | 31.7759     | 66.5329     | 10.6318     | -26.1899    | -15.6867    | 8.85909     | 5.25387     | -13.5654    | -1.14134     | 0.976797     | -3.24539     | 11.0028     | 841.385     | 1359.19     | 384.056     | 864.368     | 360.172     | 326.569     | 220.122     | 283.251     | 172.577      | 82.7635      | 326.986\n",
       "classic pop and rock | TRDYTEO128F427DB90 | Blue Oyster Cult | The Revenge Of Vera Gemini | -11.839  | 132.361 | 4              | 2    | 1    | 230.321  | 43.2236     | 22.4052     | 25.6057     | -4.72591    | -21.8132    | -20.1433    | -6.36565    | 7.3555      | 1.95975     | 3.06832      | 1.07331      | 3.09223      | 24.6985     | 1051.75     | 1091.71     | 502.409     | 874.806     | 408.554     | 319.442     | 290.918     | 311.695     | 240.332      | 109.616      | 201.445\n",
       "classic pop and rock | TRKSICM128F427DB8B | Blue Oyster Cult | True Confessions           | -13.76   | 121.001 | 4              | 10   | 1    | 177.554  | 40.6299     | -13.8975    | 49.3046     | 5.80376     | -34.4409    | -4.08189    | -10.0995    | 1.76456     | 6.79743     | 2.96244      | 5.16498      | 11.3743      | 43.4517     | 866.207     | 1318.65     | 505.414     | 571.176     | 513.285     | 277.559     | 293.769     | 334.108     | 184.003      | 153.88       | 214.219\n",
       "classic pop and rock | TRCJRAM128F934658C | Blue Oyster Cult | Out Of Stadion - Original  | -18.054  | 70.724  | 4              | 11   | 1    | 81.2404  | 37.198      | -17.737     | 46.6581     | -12.7808    | -4.34941    | -20.7362    | -2.15691    | -0.6854     | 13.3936     | 3.07068      | -0.0495286   | 8.40667      | 15.8908     | 1242.78     | 438.026     | 1593.67     | 206.532     | 291.643     | 265.495     | 449.678     | 165.293     | 176.428      | 137.506      | 98.5108\n",
       "classic pop and rock | TRIERYM128F934657C | Blue Oyster Cult | Ginger Snaps - Original    | -20.142  | 142.76  | 3              | 11   | 0    | 94.2493  | 34.8471     | -28.4297    | 42.3055     | -10.6478    | -7.31673    | -27.315     | -1.13492    | 1.70049     | 6.69704     | 4.26274      | 0.366006     | 8.36433      | 22.0162     | 7838.32     | 1154.65     | 1091.28     | 928.228     | 215.512     | 303.548     | 195.967     | 391.368     | 92.6107      | 152.654      | 204.461\n",
       "... (59590 rows omitted)"
      ]
     },
     "execution_count": 116,
     "metadata": {},
     "output_type": "execute_result"
    }
   ],
   "source": [
    "songs = Table.read_table('/home/jovyan/work/datasets/msd_genre_dataset.csv')\n",
    "songs"
   ]
  },
  {
   "cell_type": "code",
   "execution_count": 117,
   "metadata": {},
   "outputs": [],
   "source": [
    "attributes = songs.drop('genre','title','artist_name','track_id','genre')"
   ]
  },
  {
   "cell_type": "code",
   "execution_count": 13,
   "metadata": {},
   "outputs": [
    {
     "data": {
      "text/html": [
       "<table border=\"1\" class=\"dataframe\">\n",
       "    <thead>\n",
       "        <tr>\n",
       "            <th>genre</th> <th>track_id</th> <th>artist_name</th> <th>title</th> <th>loudness</th> <th>tempo</th> <th>time_signature</th> <th>key</th> <th>mode</th> <th>duration</th> <th>avg_timbre1</th> <th>avg_timbre2</th> <th>avg_timbre3</th> <th>avg_timbre4</th> <th>avg_timbre5</th> <th>avg_timbre6</th> <th>avg_timbre7</th> <th>avg_timbre8</th> <th>avg_timbre9</th> <th>avg_timbre10</th> <th>avg_timbre11</th> <th>avg_timbre12</th> <th>var_timbre1</th> <th>var_timbre2</th> <th>var_timbre3</th> <th>var_timbre4</th> <th>var_timbre5</th> <th>var_timbre6</th> <th>var_timbre7</th> <th>var_timbre8</th> <th>var_timbre9</th> <th>var_timbre10</th> <th>var_timbre11</th> <th>var_timbre12</th>\n",
       "        </tr>\n",
       "    </thead>\n",
       "    <tbody>\n",
       "        <tr>\n",
       "            <td>classic pop and rock</td> <td>TRSIZRN128F427DB95</td> <td>Blue Oyster Cult</td> <td>Morning Final</td> <td>-11.952 </td> <td>100.901</td> <td>1             </td> <td>0   </td> <td>1   </td> <td>254.171 </td> <td>43.7468    </td> <td>31.7759    </td> <td>66.5329    </td> <td>10.6318    </td> <td>-26.1899   </td> <td>-15.6867   </td> <td>8.85909    </td> <td>5.25387    </td> <td>-13.5654   </td> <td>-1.14134    </td> <td>0.976797    </td> <td>-3.24539    </td> <td>11.0028    </td> <td>841.385    </td> <td>1359.19    </td> <td>384.056    </td> <td>864.368    </td> <td>360.172    </td> <td>326.569    </td> <td>220.122    </td> <td>283.251    </td> <td>172.577     </td> <td>82.7635     </td> <td>326.986     </td>\n",
       "        </tr>\n",
       "    </tbody>\n",
       "</table>"
      ],
      "text/plain": [
       "genre                | track_id           | artist_name      | title         | loudness | tempo   | time_signature | key  | mode | duration | avg_timbre1 | avg_timbre2 | avg_timbre3 | avg_timbre4 | avg_timbre5 | avg_timbre6 | avg_timbre7 | avg_timbre8 | avg_timbre9 | avg_timbre10 | avg_timbre11 | avg_timbre12 | var_timbre1 | var_timbre2 | var_timbre3 | var_timbre4 | var_timbre5 | var_timbre6 | var_timbre7 | var_timbre8 | var_timbre9 | var_timbre10 | var_timbre11 | var_timbre12\n",
       "classic pop and rock | TRSIZRN128F427DB95 | Blue Oyster Cult | Morning Final | -11.952  | 100.901 | 1              | 0    | 1    | 254.171  | 43.7468     | 31.7759     | 66.5329     | 10.6318     | -26.1899    | -15.6867    | 8.85909     | 5.25387     | -13.5654    | -1.14134     | 0.976797     | -3.24539     | 11.0028     | 841.385     | 1359.19     | 384.056     | 864.368     | 360.172     | 326.569     | 220.122     | 283.251     | 172.577      | 82.7635      | 326.986"
      ]
     },
     "execution_count": 13,
     "metadata": {},
     "output_type": "execute_result"
    }
   ],
   "source": [
    "songs.take(5)"
   ]
  },
  {
   "cell_type": "code",
   "execution_count": 16,
   "metadata": {},
   "outputs": [
    {
     "data": {
      "text/html": [
       "<table border=\"1\" class=\"dataframe\">\n",
       "    <thead>\n",
       "        <tr>\n",
       "            <th>genre</th> <th>track_id</th> <th>artist_name</th> <th>title</th> <th>loudness</th> <th>tempo</th> <th>time_signature</th> <th>key</th> <th>mode</th> <th>duration</th> <th>avg_timbre1</th> <th>avg_timbre2</th> <th>avg_timbre3</th> <th>avg_timbre4</th> <th>avg_timbre5</th> <th>avg_timbre6</th> <th>avg_timbre7</th> <th>avg_timbre8</th> <th>avg_timbre9</th> <th>avg_timbre10</th> <th>avg_timbre11</th> <th>avg_timbre12</th> <th>var_timbre1</th> <th>var_timbre2</th> <th>var_timbre3</th> <th>var_timbre4</th> <th>var_timbre5</th> <th>var_timbre6</th> <th>var_timbre7</th> <th>var_timbre8</th> <th>var_timbre9</th> <th>var_timbre10</th> <th>var_timbre11</th> <th>var_timbre12</th>\n",
       "        </tr>\n",
       "    </thead>\n",
       "    <tbody>\n",
       "        <tr>\n",
       "            <td>jazz and blues</td> <td>TRSOKXS12903CABD8D</td> <td>Jono El Grande</td> <td>Rumba For A Slightly Exited Ape</td> <td>-10.551 </td> <td>130.812</td> <td>4             </td> <td>9   </td> <td>0   </td> <td>96.8616 </td> <td>43.5253    </td> <td>-5.78691   </td> <td>49.739     </td> <td>20.8241    </td> <td>-6.47218   </td> <td>-11.4129   </td> <td>38.9022    </td> <td>5.77889    </td> <td>0.76205    </td> <td>-1.1708     </td> <td>2.24598     </td> <td>3.17975     </td> <td>41.5414    </td> <td>3783.11    </td> <td>2596       </td> <td>2051.36    </td> <td>841.15     </td> <td>804.629    </td> <td>651.927    </td> <td>458.917    </td> <td>416.296    </td> <td>343.458     </td> <td>298.39      </td> <td>339.95      </td>\n",
       "        </tr>\n",
       "    </tbody>\n",
       "</table>"
      ],
      "text/plain": [
       "genre          | track_id           | artist_name    | title                           | loudness | tempo   | time_signature | key  | mode | duration | avg_timbre1 | avg_timbre2 | avg_timbre3 | avg_timbre4 | avg_timbre5 | avg_timbre6 | avg_timbre7 | avg_timbre8 | avg_timbre9 | avg_timbre10 | avg_timbre11 | avg_timbre12 | var_timbre1 | var_timbre2 | var_timbre3 | var_timbre4 | var_timbre5 | var_timbre6 | var_timbre7 | var_timbre8 | var_timbre9 | var_timbre10 | var_timbre11 | var_timbre12\n",
       "jazz and blues | TRSOKXS12903CABD8D | Jono El Grande | Rumba For A Slightly Exited Ape | -10.551  | 130.812 | 4              | 9    | 0    | 96.8616  | 43.5253     | -5.78691    | 49.739      | 20.8241     | -6.47218    | -11.4129    | 38.9022     | 5.77889     | 0.76205     | -1.1708      | 2.24598      | 3.17975      | 41.5414     | 3783.11     | 2596        | 2051.36     | 841.15      | 804.629     | 651.927     | 458.917     | 416.296     | 343.458      | 298.39       | 339.95"
      ]
     },
     "execution_count": 16,
     "metadata": {},
     "output_type": "execute_result"
    }
   ],
   "source": [
    "songs.take(50000)"
   ]
  },
  {
   "cell_type": "code",
   "execution_count": 20,
   "metadata": {},
   "outputs": [
    {
     "data": {
      "text/html": [
       "<table border=\"1\" class=\"dataframe\">\n",
       "    <thead>\n",
       "        <tr>\n",
       "            <th>genre</th> <th>count</th>\n",
       "        </tr>\n",
       "    </thead>\n",
       "    <tbody>\n",
       "        <tr>\n",
       "            <td>classic pop and rock </td> <td>23895</td>\n",
       "        </tr>\n",
       "        <tr>\n",
       "            <td>classical            </td> <td>1874 </td>\n",
       "        </tr>\n",
       "        <tr>\n",
       "            <td>dance and electronica</td> <td>4935 </td>\n",
       "        </tr>\n",
       "        <tr>\n",
       "            <td>folk                 </td> <td>13192</td>\n",
       "        </tr>\n",
       "        <tr>\n",
       "            <td>hip-hop              </td> <td>434  </td>\n",
       "        </tr>\n",
       "        <tr>\n",
       "            <td>jazz and blues       </td> <td>4334 </td>\n",
       "        </tr>\n",
       "        <tr>\n",
       "            <td>metal                </td> <td>2103 </td>\n",
       "        </tr>\n",
       "        <tr>\n",
       "            <td>pop                  </td> <td>1617 </td>\n",
       "        </tr>\n",
       "        <tr>\n",
       "            <td>punk                 </td> <td>3200 </td>\n",
       "        </tr>\n",
       "        <tr>\n",
       "            <td>soul and reggae      </td> <td>4016 </td>\n",
       "        </tr>\n",
       "    </tbody>\n",
       "</table>"
      ],
      "text/plain": [
       "genre                 | count\n",
       "classic pop and rock  | 23895\n",
       "classical             | 1874\n",
       "dance and electronica | 4935\n",
       "folk                  | 13192\n",
       "hip-hop               | 434\n",
       "jazz and blues        | 4334\n",
       "metal                 | 2103\n",
       "pop                   | 1617\n",
       "punk                  | 3200\n",
       "soul and reggae       | 4016"
      ]
     },
     "execution_count": 20,
     "metadata": {},
     "output_type": "execute_result"
    }
   ],
   "source": [
    "songs.group('genre')"
   ]
  },
  {
   "cell_type": "code",
   "execution_count": 24,
   "metadata": {},
   "outputs": [
    {
     "data": {
      "text/html": [
       "<table border=\"1\" class=\"dataframe\">\n",
       "    <thead>\n",
       "        <tr>\n",
       "            <th>genre</th> <th>track_id</th> <th>artist_name</th> <th>title</th> <th>loudness</th> <th>tempo</th> <th>time_signature</th> <th>key</th> <th>mode</th> <th>duration</th> <th>avg_timbre1</th> <th>avg_timbre2</th> <th>avg_timbre3</th> <th>avg_timbre4</th> <th>avg_timbre5</th> <th>avg_timbre6</th> <th>avg_timbre7</th> <th>avg_timbre8</th> <th>avg_timbre9</th> <th>avg_timbre10</th> <th>avg_timbre11</th> <th>avg_timbre12</th> <th>var_timbre1</th> <th>var_timbre2</th> <th>var_timbre3</th> <th>var_timbre4</th> <th>var_timbre5</th> <th>var_timbre6</th> <th>var_timbre7</th> <th>var_timbre8</th> <th>var_timbre9</th> <th>var_timbre10</th> <th>var_timbre11</th> <th>var_timbre12</th>\n",
       "        </tr>\n",
       "    </thead>\n",
       "    <tbody>\n",
       "        <tr>\n",
       "            <td>metal</td> <td>TRZYQUA12903CE758D</td> <td>MNEMIC     </td> <td>Sons Of The System        </td> <td>-5.072  </td> <td>180.016</td> <td>1             </td> <td>10  </td> <td>0   </td> <td>240.3   </td> <td>49.6708    </td> <td>60.6166    </td> <td>-1.2505    </td> <td>13.9789    </td> <td>-24.4535   </td> <td>-19.5259   </td> <td>13.6132    </td> <td>5.09164    </td> <td>-0.231408  </td> <td>13.2092     </td> <td>0.390282    </td> <td>-1.84627    </td> <td>19.2159    </td> <td>3137.3     </td> <td>1557.31    </td> <td>946.821    </td> <td>451.394    </td> <td>609.849    </td> <td>255.307    </td> <td>312.352    </td> <td>314.858    </td> <td>143.1       </td> <td>221.083     </td> <td>145.898     </td>\n",
       "        </tr>\n",
       "        <tr>\n",
       "            <td>metal</td> <td>TRHYDDL128F424C3DE</td> <td>MNEMIC     </td> <td>Ghost                     </td> <td>-4.846  </td> <td>111.002</td> <td>4             </td> <td>1   </td> <td>1   </td> <td>335.621 </td> <td>50.2747    </td> <td>84.6827    </td> <td>23.5172    </td> <td>-0.76229   </td> <td>-41.2132   </td> <td>-21.3818   </td> <td>11.1396    </td> <td>2.54642    </td> <td>-0.388439  </td> <td>9.4054      </td> <td>0.0648057   </td> <td>3.48351     </td> <td>11.6969    </td> <td>719.729    </td> <td>639.142    </td> <td>618.787    </td> <td>435.055    </td> <td>737.162    </td> <td>425.828    </td> <td>289.306    </td> <td>231.869    </td> <td>189.058     </td> <td>210.703     </td> <td>156.909     </td>\n",
       "        </tr>\n",
       "        <tr>\n",
       "            <td>metal</td> <td>TRADHKC128F4292001</td> <td>MNEMIC     </td> <td>Ghost                     </td> <td>-5.097  </td> <td>111.027</td> <td>4             </td> <td>1   </td> <td>1   </td> <td>335.621 </td> <td>50.0346    </td> <td>85.0466    </td> <td>24.0455    </td> <td>-0.946761  </td> <td>-41.0851   </td> <td>-20.7244   </td> <td>11.3909    </td> <td>2.75784    </td> <td>-0.201922  </td> <td>9.57205     </td> <td>0.246968    </td> <td>3.35779     </td> <td>11.6807    </td> <td>718.456    </td> <td>637.267    </td> <td>615.352    </td> <td>433.89     </td> <td>696.727    </td> <td>417.669    </td> <td>289.993    </td> <td>233.397    </td> <td>187.72      </td> <td>213.4       </td> <td>156.013     </td>\n",
       "        </tr>\n",
       "        <tr>\n",
       "            <td>metal</td> <td>TRKJDIV128F424C3E3</td> <td>MNEMIC     </td> <td>Blood stained             </td> <td>-6.066  </td> <td>147.984</td> <td>5             </td> <td>1   </td> <td>0   </td> <td>437.42  </td> <td>48.6264    </td> <td>44.7877    </td> <td>19.3201    </td> <td>8.97413    </td> <td>-16.5883   </td> <td>-23.5568   </td> <td>8.60591    </td> <td>-3.36509   </td> <td>6.79281    </td> <td>0.282344    </td> <td>2.50337     </td> <td>-1.21199    </td> <td>18.5985    </td> <td>2200.12    </td> <td>1390.05    </td> <td>604.562    </td> <td>804.523    </td> <td>514.689    </td> <td>540.478    </td> <td>399.736    </td> <td>343.861    </td> <td>224.958     </td> <td>155.944     </td> <td>218.478     </td>\n",
       "        </tr>\n",
       "        <tr>\n",
       "            <td>metal</td> <td>TRWEXXR128F425367B</td> <td>MNEMIC     </td> <td>Tattoos                   </td> <td>-5.259  </td> <td>125.074</td> <td>3             </td> <td>11  </td> <td>0   </td> <td>396.643 </td> <td>49.767     </td> <td>88.6765    </td> <td>29.6635    </td> <td>3.50569    </td> <td>-46.5473   </td> <td>-19.6898   </td> <td>12.9003    </td> <td>1.71118    </td> <td>4.45621    </td> <td>11.1174     </td> <td>-0.227701   </td> <td>1.47316     </td> <td>17.2087    </td> <td>689.015    </td> <td>716.335    </td> <td>765.956    </td> <td>550.621    </td> <td>674.531    </td> <td>377.821    </td> <td>232.732    </td> <td>184.245    </td> <td>201.893     </td> <td>201.194     </td> <td>163.542     </td>\n",
       "        </tr>\n",
       "        <tr>\n",
       "            <td>metal</td> <td>TRWKJYH128F426A61F</td> <td>MNEMIC     </td> <td>Ghost                     </td> <td>-5.103  </td> <td>111.006</td> <td>4             </td> <td>1   </td> <td>1   </td> <td>335.412 </td> <td>50.0733    </td> <td>84.6038    </td> <td>23.9177    </td> <td>-0.911168  </td> <td>-41.5301   </td> <td>-21.1049   </td> <td>11.2818    </td> <td>2.81901    </td> <td>-0.00649141</td> <td>9.47147     </td> <td>0.0703873   </td> <td>3.37661     </td> <td>7.51093    </td> <td>750.115    </td> <td>682.284    </td> <td>593.718    </td> <td>422.42     </td> <td>642.376    </td> <td>424.39     </td> <td>293.355    </td> <td>244.355    </td> <td>191.117     </td> <td>217.43      </td> <td>158.83      </td>\n",
       "        </tr>\n",
       "        <tr>\n",
       "            <td>metal</td> <td>TRCMDMC128F425367A</td> <td>MNEMIC     </td> <td>Db'xx'd                   </td> <td>-5.088  </td> <td>182.992</td> <td>3             </td> <td>1   </td> <td>0   </td> <td>479.399 </td> <td>49.0779    </td> <td>87.9402    </td> <td>34.9531    </td> <td>4.51892    </td> <td>-39.5188   </td> <td>-17.4448   </td> <td>4.93845    </td> <td>0.118604   </td> <td>4.45659    </td> <td>8.25249     </td> <td>0.157458    </td> <td>3.45921     </td> <td>45.8232    </td> <td>839.331    </td> <td>1931.25    </td> <td>549.501    </td> <td>589.252    </td> <td>504.042    </td> <td>516.566    </td> <td>231.805    </td> <td>189.632    </td> <td>194.148     </td> <td>179.563     </td> <td>160.898     </td>\n",
       "        </tr>\n",
       "        <tr>\n",
       "            <td>metal</td> <td>TRCALDS128F4291F23</td> <td>MNEMIC     </td> <td>Zero Gravity              </td> <td>-8.658  </td> <td>90.036 </td> <td>4             </td> <td>11  </td> <td>0   </td> <td>471.954 </td> <td>41.337     </td> <td>13.0297    </td> <td>1.5687     </td> <td>-14.7471   </td> <td>-34.9046   </td> <td>-25.8196   </td> <td>9.73691    </td> <td>-2.95485   </td> <td>-3.43355   </td> <td>-3.18237    </td> <td>-0.9961     </td> <td>5.66545     </td> <td>185.776    </td> <td>5734.13    </td> <td>4407.45    </td> <td>972.962    </td> <td>1058.55    </td> <td>382.385    </td> <td>751.84     </td> <td>348.677    </td> <td>791.416    </td> <td>163.048     </td> <td>88.0499     </td> <td>187.586     </td>\n",
       "        </tr>\n",
       "        <tr>\n",
       "            <td>metal</td> <td>TRQJFVQ128F425367E</td> <td>MNEMIC     </td> <td>Mechanical spin phenomenon</td> <td>-5.219  </td> <td>104.705</td> <td>3             </td> <td>8   </td> <td>1   </td> <td>298.161 </td> <td>49.1026    </td> <td>80.2342    </td> <td>23.4752    </td> <td>1.25866    </td> <td>-39.7407   </td> <td>-22.4281   </td> <td>17.3616    </td> <td>0.214733   </td> <td>1.77022    </td> <td>9.08555     </td> <td>0.153639    </td> <td>1.52733     </td> <td>46.4485    </td> <td>1755.26    </td> <td>1167.21    </td> <td>836.482    </td> <td>471.377    </td> <td>477.46     </td> <td>561.369    </td> <td>321.57     </td> <td>300.152    </td> <td>231.31      </td> <td>158.866     </td> <td>180.498     </td>\n",
       "        </tr>\n",
       "        <tr>\n",
       "            <td>metal</td> <td>TRTKOXQ128F426A62F</td> <td>MNEMIC     </td> <td>Closed Eyes               </td> <td>-5.085  </td> <td>115.026</td> <td>4             </td> <td>1   </td> <td>1   </td> <td>288.522 </td> <td>50.0154    </td> <td>75.1745    </td> <td>27.532     </td> <td>7.19844    </td> <td>-44.5415   </td> <td>-20.0838   </td> <td>17.5539    </td> <td>-1.26116   </td> <td>4.19127    </td> <td>7.99909     </td> <td>-1.18775    </td> <td>-2.77885    </td> <td>9.15058    </td> <td>814.701    </td> <td>654.205    </td> <td>1236.53    </td> <td>460.401    </td> <td>942.893    </td> <td>544.338    </td> <td>348.763    </td> <td>204.525    </td> <td>240.308     </td> <td>254.226     </td> <td>167.14      </td>\n",
       "        </tr>\n",
       "    </tbody>\n",
       "</table>\n",
       "<p>... (2093 rows omitted)</p>"
      ],
      "text/plain": [
       "genre | track_id           | artist_name | title                      | loudness | tempo   | time_signature | key  | mode | duration | avg_timbre1 | avg_timbre2 | avg_timbre3 | avg_timbre4 | avg_timbre5 | avg_timbre6 | avg_timbre7 | avg_timbre8 | avg_timbre9 | avg_timbre10 | avg_timbre11 | avg_timbre12 | var_timbre1 | var_timbre2 | var_timbre3 | var_timbre4 | var_timbre5 | var_timbre6 | var_timbre7 | var_timbre8 | var_timbre9 | var_timbre10 | var_timbre11 | var_timbre12\n",
       "metal | TRZYQUA12903CE758D | MNEMIC      | Sons Of The System         | -5.072   | 180.016 | 1              | 10   | 0    | 240.3    | 49.6708     | 60.6166     | -1.2505     | 13.9789     | -24.4535    | -19.5259    | 13.6132     | 5.09164     | -0.231408   | 13.2092      | 0.390282     | -1.84627     | 19.2159     | 3137.3      | 1557.31     | 946.821     | 451.394     | 609.849     | 255.307     | 312.352     | 314.858     | 143.1        | 221.083      | 145.898\n",
       "metal | TRHYDDL128F424C3DE | MNEMIC      | Ghost                      | -4.846   | 111.002 | 4              | 1    | 1    | 335.621  | 50.2747     | 84.6827     | 23.5172     | -0.76229    | -41.2132    | -21.3818    | 11.1396     | 2.54642     | -0.388439   | 9.4054       | 0.0648057    | 3.48351      | 11.6969     | 719.729     | 639.142     | 618.787     | 435.055     | 737.162     | 425.828     | 289.306     | 231.869     | 189.058      | 210.703      | 156.909\n",
       "metal | TRADHKC128F4292001 | MNEMIC      | Ghost                      | -5.097   | 111.027 | 4              | 1    | 1    | 335.621  | 50.0346     | 85.0466     | 24.0455     | -0.946761   | -41.0851    | -20.7244    | 11.3909     | 2.75784     | -0.201922   | 9.57205      | 0.246968     | 3.35779      | 11.6807     | 718.456     | 637.267     | 615.352     | 433.89      | 696.727     | 417.669     | 289.993     | 233.397     | 187.72       | 213.4        | 156.013\n",
       "metal | TRKJDIV128F424C3E3 | MNEMIC      | Blood stained              | -6.066   | 147.984 | 5              | 1    | 0    | 437.42   | 48.6264     | 44.7877     | 19.3201     | 8.97413     | -16.5883    | -23.5568    | 8.60591     | -3.36509    | 6.79281     | 0.282344     | 2.50337      | -1.21199     | 18.5985     | 2200.12     | 1390.05     | 604.562     | 804.523     | 514.689     | 540.478     | 399.736     | 343.861     | 224.958      | 155.944      | 218.478\n",
       "metal | TRWEXXR128F425367B | MNEMIC      | Tattoos                    | -5.259   | 125.074 | 3              | 11   | 0    | 396.643  | 49.767      | 88.6765     | 29.6635     | 3.50569     | -46.5473    | -19.6898    | 12.9003     | 1.71118     | 4.45621     | 11.1174      | -0.227701    | 1.47316      | 17.2087     | 689.015     | 716.335     | 765.956     | 550.621     | 674.531     | 377.821     | 232.732     | 184.245     | 201.893      | 201.194      | 163.542\n",
       "metal | TRWKJYH128F426A61F | MNEMIC      | Ghost                      | -5.103   | 111.006 | 4              | 1    | 1    | 335.412  | 50.0733     | 84.6038     | 23.9177     | -0.911168   | -41.5301    | -21.1049    | 11.2818     | 2.81901     | -0.00649141 | 9.47147      | 0.0703873    | 3.37661      | 7.51093     | 750.115     | 682.284     | 593.718     | 422.42      | 642.376     | 424.39      | 293.355     | 244.355     | 191.117      | 217.43       | 158.83\n",
       "metal | TRCMDMC128F425367A | MNEMIC      | Db'xx'd                    | -5.088   | 182.992 | 3              | 1    | 0    | 479.399  | 49.0779     | 87.9402     | 34.9531     | 4.51892     | -39.5188    | -17.4448    | 4.93845     | 0.118604    | 4.45659     | 8.25249      | 0.157458     | 3.45921      | 45.8232     | 839.331     | 1931.25     | 549.501     | 589.252     | 504.042     | 516.566     | 231.805     | 189.632     | 194.148      | 179.563      | 160.898\n",
       "metal | TRCALDS128F4291F23 | MNEMIC      | Zero Gravity               | -8.658   | 90.036  | 4              | 11   | 0    | 471.954  | 41.337      | 13.0297     | 1.5687      | -14.7471    | -34.9046    | -25.8196    | 9.73691     | -2.95485    | -3.43355    | -3.18237     | -0.9961      | 5.66545      | 185.776     | 5734.13     | 4407.45     | 972.962     | 1058.55     | 382.385     | 751.84      | 348.677     | 791.416     | 163.048      | 88.0499      | 187.586\n",
       "metal | TRQJFVQ128F425367E | MNEMIC      | Mechanical spin phenomenon | -5.219   | 104.705 | 3              | 8    | 1    | 298.161  | 49.1026     | 80.2342     | 23.4752     | 1.25866     | -39.7407    | -22.4281    | 17.3616     | 0.214733    | 1.77022     | 9.08555      | 0.153639     | 1.52733      | 46.4485     | 1755.26     | 1167.21     | 836.482     | 471.377     | 477.46      | 561.369     | 321.57      | 300.152     | 231.31       | 158.866      | 180.498\n",
       "metal | TRTKOXQ128F426A62F | MNEMIC      | Closed Eyes                | -5.085   | 115.026 | 4              | 1    | 1    | 288.522  | 50.0154     | 75.1745     | 27.532      | 7.19844     | -44.5415    | -20.0838    | 17.5539     | -1.26116    | 4.19127     | 7.99909      | -1.18775     | -2.77885     | 9.15058     | 814.701     | 654.205     | 1236.53     | 460.401     | 942.893     | 544.338     | 348.763     | 204.525     | 240.308      | 254.226      | 167.14\n",
       "... (2093 rows omitted)"
      ]
     },
     "execution_count": 24,
     "metadata": {},
     "output_type": "execute_result"
    }
   ],
   "source": [
    "songs.where('genre','metal')"
   ]
  },
  {
   "cell_type": "code",
   "execution_count": 112,
   "metadata": {},
   "outputs": [
    {
     "data": {
      "text/html": [
       "<table border=\"1\" class=\"dataframe\">\n",
       "    <thead>\n",
       "        <tr>\n",
       "            <th>artist_name</th> <th>count</th>\n",
       "        </tr>\n",
       "    </thead>\n",
       "    <tbody>\n",
       "        <tr>\n",
       "            <td>Aborted                          </td> <td>69   </td>\n",
       "        </tr>\n",
       "        <tr>\n",
       "            <td>Accomplice                       </td> <td>12   </td>\n",
       "        </tr>\n",
       "        <tr>\n",
       "            <td>Aghora                           </td> <td>13   </td>\n",
       "        </tr>\n",
       "        <tr>\n",
       "            <td>Amen Corner                      </td> <td>48   </td>\n",
       "        </tr>\n",
       "        <tr>\n",
       "            <td>Asphyx                           </td> <td>60   </td>\n",
       "        </tr>\n",
       "        <tr>\n",
       "            <td>August Burns Red                 </td> <td>48   </td>\n",
       "        </tr>\n",
       "        <tr>\n",
       "            <td>Becoming The Archetype           </td> <td>34   </td>\n",
       "        </tr>\n",
       "        <tr>\n",
       "            <td>Behemoth                         </td> <td>96   </td>\n",
       "        </tr>\n",
       "        <tr>\n",
       "            <td>Between The Buried & Me          </td> <td>2    </td>\n",
       "        </tr>\n",
       "        <tr>\n",
       "            <td>Between The Buried And Me        </td> <td>63   </td>\n",
       "        </tr>\n",
       "        <tr>\n",
       "            <td>Beyond Twilight                  </td> <td>17   </td>\n",
       "        </tr>\n",
       "        <tr>\n",
       "            <td>Biohazard                        </td> <td>115  </td>\n",
       "        </tr>\n",
       "        <tr>\n",
       "            <td>Biohazard / Sticky Fingaz        </td> <td>1    </td>\n",
       "        </tr>\n",
       "        <tr>\n",
       "            <td>Bloodjinn                        </td> <td>18   </td>\n",
       "        </tr>\n",
       "        <tr>\n",
       "            <td>Bloodsimple                      </td> <td>24   </td>\n",
       "        </tr>\n",
       "        <tr>\n",
       "            <td>Body Count                       </td> <td>48   </td>\n",
       "        </tr>\n",
       "        <tr>\n",
       "            <td>Brain Drill                      </td> <td>16   </td>\n",
       "        </tr>\n",
       "        <tr>\n",
       "            <td>Carnivore                        </td> <td>26   </td>\n",
       "        </tr>\n",
       "        <tr>\n",
       "            <td>DEW-SCENTED                      </td> <td>46   </td>\n",
       "        </tr>\n",
       "        <tr>\n",
       "            <td>Devanic                          </td> <td>16   </td>\n",
       "        </tr>\n",
       "        <tr>\n",
       "            <td>Diablo Swing Orchestra           </td> <td>24   </td>\n",
       "        </tr>\n",
       "        <tr>\n",
       "            <td>Divine Heresy                    </td> <td>10   </td>\n",
       "        </tr>\n",
       "        <tr>\n",
       "            <td>Dog Eat Dog                      </td> <td>29   </td>\n",
       "        </tr>\n",
       "        <tr>\n",
       "            <td>Dub War                          </td> <td>59   </td>\n",
       "        </tr>\n",
       "        <tr>\n",
       "            <td>Dub War Vs Panacea               </td> <td>1    </td>\n",
       "        </tr>\n",
       "        <tr>\n",
       "            <td>Eluveitie                        </td> <td>62   </td>\n",
       "        </tr>\n",
       "        <tr>\n",
       "            <td>For The Fallen Dreams            </td> <td>12   </td>\n",
       "        </tr>\n",
       "        <tr>\n",
       "            <td>Haste The Day                    </td> <td>50   </td>\n",
       "        </tr>\n",
       "        <tr>\n",
       "            <td>Ion Dissonance                   </td> <td>19   </td>\n",
       "        </tr>\n",
       "        <tr>\n",
       "            <td>Izah                             </td> <td>2    </td>\n",
       "        </tr>\n",
       "        <tr>\n",
       "            <td>John Campbell                    </td> <td>19   </td>\n",
       "        </tr>\n",
       "        <tr>\n",
       "            <td>Kingdom of Sorrow                </td> <td>11   </td>\n",
       "        </tr>\n",
       "        <tr>\n",
       "            <td>MNEMIC                           </td> <td>54   </td>\n",
       "        </tr>\n",
       "        <tr>\n",
       "            <td>Moonspell                        </td> <td>84   </td>\n",
       "        </tr>\n",
       "        <tr>\n",
       "            <td>Morgion                          </td> <td>18   </td>\n",
       "        </tr>\n",
       "        <tr>\n",
       "            <td>Nevermore                        </td> <td>95   </td>\n",
       "        </tr>\n",
       "        <tr>\n",
       "            <td>Orphaned Land                    </td> <td>33   </td>\n",
       "        </tr>\n",
       "        <tr>\n",
       "            <td>Overkill                         </td> <td>112  </td>\n",
       "        </tr>\n",
       "        <tr>\n",
       "            <td>Pagan's Mind                     </td> <td>34   </td>\n",
       "        </tr>\n",
       "        <tr>\n",
       "            <td>Pagans Mind                      </td> <td>11   </td>\n",
       "        </tr>\n",
       "        <tr>\n",
       "            <td>Persuader                        </td> <td>13   </td>\n",
       "        </tr>\n",
       "        <tr>\n",
       "            <td>RAUNCHY                          </td> <td>38   </td>\n",
       "        </tr>\n",
       "        <tr>\n",
       "            <td>Rose Funeral                     </td> <td>21   </td>\n",
       "        </tr>\n",
       "        <tr>\n",
       "            <td>Rotting Christ                   </td> <td>53   </td>\n",
       "        </tr>\n",
       "        <tr>\n",
       "            <td>Samael                           </td> <td>51   </td>\n",
       "        </tr>\n",
       "        <tr>\n",
       "            <td>Sirenia                          </td> <td>22   </td>\n",
       "        </tr>\n",
       "        <tr>\n",
       "            <td>Soilwork                         </td> <td>99   </td>\n",
       "        </tr>\n",
       "        <tr>\n",
       "            <td>Stick To Your Guns               </td> <td>14   </td>\n",
       "        </tr>\n",
       "        <tr>\n",
       "            <td>THERION                          </td> <td>85   </td>\n",
       "        </tr>\n",
       "        <tr>\n",
       "            <td>Tapes \u0018n Tapes                   </td> <td>1    </td>\n",
       "        </tr>\n",
       "        <tr>\n",
       "            <td>The Autumn Offering              </td> <td>40   </td>\n",
       "        </tr>\n",
       "        <tr>\n",
       "            <td>The Musicmaker                   </td> <td>1    </td>\n",
       "        </tr>\n",
       "        <tr>\n",
       "            <td>The Subtle Way                   </td> <td>10   </td>\n",
       "        </tr>\n",
       "        <tr>\n",
       "            <td>Thierry Noritop & Daniel Finot   </td> <td>1    </td>\n",
       "        </tr>\n",
       "        <tr>\n",
       "            <td>Trivium                          </td> <td>62   </td>\n",
       "        </tr>\n",
       "        <tr>\n",
       "            <td>Voivod                           </td> <td>80   </td>\n",
       "        </tr>\n",
       "        <tr>\n",
       "            <td>bloodsimple (featuring Chad Gray)</td> <td>1    </td>\n",
       "        </tr>\n",
       "    </tbody>\n",
       "</table>"
      ],
      "text/plain": [
       "<IPython.core.display.HTML object>"
      ]
     },
     "metadata": {},
     "output_type": "display_data"
    }
   ],
   "source": [
    "songs.where('genre','metal').group('artist_name').show(100)"
   ]
  },
  {
   "cell_type": "code",
   "execution_count": 52,
   "metadata": {},
   "outputs": [],
   "source": [
    "def distance(pt1, pt2):\n",
    "    return np.sqrt(sum((pt1 - pt2) ** 2))\n",
    "    \n",
    "def row_distance(row1,row2):\n",
    "    return distance( np.array(row1),  np.array(row2))\n",
    "\n",
    "def majority_class(neighbors):\n",
    "    return neighbors.group('genre').sort('count', descending=True).column('genre').item(0)\n",
    "\n",
    "def classify(training, example, k):\n",
    "    nearest_neighbors = closest(training, example, k)\n",
    "    return majority_class(nearest_neighbors)\n",
    "\n",
    "def distances(training,example):\n",
    "    dists = []\n",
    "    attributes = training.drop('genre','title','artist_name','track_id','genre')\n",
    "    for row in attributes.rows:\n",
    "        dist = row_distance(row, example)\n",
    "        dists.append(dist)\n",
    "    return training.with_column('distance',dists)\n",
    "\n",
    "def closest(training, example, k):\n",
    "    return distances(training, example).sort('genre').take(np.arange(k)\n",
    "                                             "
   ]
  },
  {
   "cell_type": "code",
   "execution_count": 110,
   "metadata": {},
   "outputs": [
    {
     "name": "stdout",
     "output_type": "stream",
     "text": [
      "Row(loudness=-4.846, tempo=111.00200000000001, time_signature=4, key=1, mode=1, duration=335.62077, avg_timbre1=50.2747165992, avg_timbre2=84.6827145749, avg_timbre3=23.517152834, avg_timbre4=-0.76229048583, avg_timbre5=-41.2132459514, avg_timbre6=-21.3818006073, avg_timbre7=11.1396427126, avg_timbre8=2.54641801619, avg_timbre9=-0.388439271255, avg_timbre10=9.405401821860002, avg_timbre11=0.0648056680162, avg_timbre12=3.48350910931, var_timbre1=11.6969204743, var_timbre2=719.728774131, var_timbre3=639.141884044, var_timbre4=618.786674573, var_timbre5=435.054525989, var_timbre6=737.1624704860001, var_timbre7=425.828135244, var_timbre8=289.306259964, var_timbre9=231.868961082, var_timbre10=189.05769782099998, var_timbre11=210.703222634, var_timbre12=156.90921642200001)\n"
     ]
    }
   ],
   "source": [
    "metal_song_1 = songs.where('genre','metal').drop('genre','title','artist_name','track_id','genre').row(1)\n",
    "metal_song_2 = songs.where('genre','metal').drop('genre','title','artist_name','track_id','genre').row(2)\n",
    "pop_song_1 = songs.where('genre','pop').drop('genre','title','artist_name','track_id','genre').row(1)\n",
    "pop_song_2 = songs.where('genre','pop').drop('genre','title','artist_name','track_id','genre').row(2)"
   ]
  },
  {
   "cell_type": "code",
   "execution_count": 36,
   "metadata": {},
   "outputs": [
    {
     "data": {
      "text/plain": [
       "41.63877830417118"
      ]
     },
     "execution_count": 36,
     "metadata": {},
     "output_type": "execute_result"
    }
   ],
   "source": [
    "row_distance(metal_song_1,metal_song_2)"
   ]
  },
  {
   "cell_type": "code",
   "execution_count": 38,
   "metadata": {},
   "outputs": [
    {
     "data": {
      "text/plain": [
       "576.4937809045572"
      ]
     },
     "execution_count": 38,
     "metadata": {},
     "output_type": "execute_result"
    }
   ],
   "source": [
    "row_distance(pop_song_1,pop_song_2)"
   ]
  },
  {
   "cell_type": "code",
   "execution_count": 47,
   "metadata": {},
   "outputs": [
    {
     "data": {
      "text/plain": [
       "2226.6692388600663"
      ]
     },
     "execution_count": 47,
     "metadata": {},
     "output_type": "execute_result"
    }
   ],
   "source": [
    "row_distance(metal_song_1,pop_song_2)"
   ]
  },
  {
   "cell_type": "code",
   "execution_count": 49,
   "metadata": {},
   "outputs": [
    {
     "data": {
      "text/html": [
       "<table border=\"1\" class=\"dataframe\">\n",
       "    <thead>\n",
       "        <tr>\n",
       "            <th>genre</th> <th>track_id</th> <th>artist_name</th> <th>title</th> <th>loudness</th> <th>tempo</th> <th>time_signature</th> <th>key</th> <th>mode</th> <th>duration</th> <th>avg_timbre1</th> <th>avg_timbre2</th> <th>avg_timbre3</th> <th>avg_timbre4</th> <th>avg_timbre5</th> <th>avg_timbre6</th> <th>avg_timbre7</th> <th>avg_timbre8</th> <th>avg_timbre9</th> <th>avg_timbre10</th> <th>avg_timbre11</th> <th>avg_timbre12</th> <th>var_timbre1</th> <th>var_timbre2</th> <th>var_timbre3</th> <th>var_timbre4</th> <th>var_timbre5</th> <th>var_timbre6</th> <th>var_timbre7</th> <th>var_timbre8</th> <th>var_timbre9</th> <th>var_timbre10</th> <th>var_timbre11</th> <th>var_timbre12</th>\n",
       "        </tr>\n",
       "    </thead>\n",
       "    <tbody>\n",
       "        <tr>\n",
       "            <td>classic pop and rock</td> <td>TRIERYM128F934657C</td> <td>Blue Oyster Cult</td> <td>Ginger Snaps - Original</td> <td>-20.142 </td> <td>142.76</td> <td>3             </td> <td>11  </td> <td>0   </td> <td>94.2493 </td> <td>34.8471    </td> <td>-28.4297   </td> <td>42.3055    </td> <td>-10.6478   </td> <td>-7.31673   </td> <td>-27.315    </td> <td>-1.13492   </td> <td>1.70049    </td> <td>6.69704    </td> <td>4.26274     </td> <td>0.366006    </td> <td>8.36433     </td> <td>22.0162    </td> <td>7838.32    </td> <td>1154.65    </td> <td>1091.28    </td> <td>928.228    </td> <td>215.512    </td> <td>303.548    </td> <td>195.967    </td> <td>391.368    </td> <td>92.6107     </td> <td>152.654     </td> <td>204.461     </td>\n",
       "        </tr>\n",
       "    </tbody>\n",
       "</table>"
      ],
      "text/plain": [
       "genre                | track_id           | artist_name      | title                   | loudness | tempo  | time_signature | key  | mode | duration | avg_timbre1 | avg_timbre2 | avg_timbre3 | avg_timbre4 | avg_timbre5 | avg_timbre6 | avg_timbre7 | avg_timbre8 | avg_timbre9 | avg_timbre10 | avg_timbre11 | avg_timbre12 | var_timbre1 | var_timbre2 | var_timbre3 | var_timbre4 | var_timbre5 | var_timbre6 | var_timbre7 | var_timbre8 | var_timbre9 | var_timbre10 | var_timbre11 | var_timbre12\n",
       "classic pop and rock | TRIERYM128F934657C | Blue Oyster Cult | Ginger Snaps - Original | -20.142  | 142.76 | 3              | 11   | 0    | 94.2493  | 34.8471     | -28.4297    | 42.3055     | -10.6478    | -7.31673    | -27.315     | -1.13492    | 1.70049     | 6.69704     | 4.26274      | 0.366006     | 8.36433      | 22.0162     | 7838.32     | 1154.65     | 1091.28     | 928.228     | 215.512     | 303.548     | 195.967     | 391.368     | 92.6107      | 152.654      | 204.461"
      ]
     },
     "execution_count": 49,
     "metadata": {},
     "output_type": "execute_result"
    }
   ],
   "source": [
    "songs.take(9)"
   ]
  },
  {
   "cell_type": "code",
   "execution_count": 55,
   "metadata": {},
   "outputs": [
    {
     "data": {
      "text/html": [
       "<table border=\"1\" class=\"dataframe\">\n",
       "    <thead>\n",
       "        <tr>\n",
       "            <th>genre</th> <th>track_id</th> <th>artist_name</th> <th>title</th> <th>loudness</th> <th>tempo</th> <th>time_signature</th> <th>key</th> <th>mode</th> <th>duration</th> <th>avg_timbre1</th> <th>avg_timbre2</th> <th>avg_timbre3</th> <th>avg_timbre4</th> <th>avg_timbre5</th> <th>avg_timbre6</th> <th>avg_timbre7</th> <th>avg_timbre8</th> <th>avg_timbre9</th> <th>avg_timbre10</th> <th>avg_timbre11</th> <th>avg_timbre12</th> <th>var_timbre1</th> <th>var_timbre2</th> <th>var_timbre3</th> <th>var_timbre4</th> <th>var_timbre5</th> <th>var_timbre6</th> <th>var_timbre7</th> <th>var_timbre8</th> <th>var_timbre9</th> <th>var_timbre10</th> <th>var_timbre11</th> <th>var_timbre12</th> <th>distance</th>\n",
       "        </tr>\n",
       "    </thead>\n",
       "    <tbody>\n",
       "        <tr>\n",
       "            <td>classic pop and rock</td> <td>TRFCOOU128F427AEC0</td> <td>Blue Oyster Cult</td> <td>Mes Dames Sarat        </td> <td>-8.697  </td> <td>155.007</td> <td>1             </td> <td>9   </td> <td>1   </td> <td>246.334 </td> <td>46.6731    </td> <td>14.6137    </td> <td>14.6642    </td> <td>0.176561   </td> <td>-9.34638   </td> <td>-12.3417   </td> <td>11.1834    </td> <td>7.40529    </td> <td>9.31377    </td> <td>3.20117     </td> <td>-0.152734   </td> <td>5.80971     </td> <td>14.9308    </td> <td>802.206    </td> <td>1255.51    </td> <td>580.03     </td> <td>598.485    </td> <td>575.338    </td> <td>322.069    </td> <td>321.726    </td> <td>232.701    </td> <td>186.805     </td> <td>181.939     </td> <td>151.508     </td> <td>7077.95 </td>\n",
       "        </tr>\n",
       "        <tr>\n",
       "            <td>classic pop and rock</td> <td>TRNJTPB128F427AE9F</td> <td>Blue Oyster Cult</td> <td>Screams                </td> <td>-10.659 </td> <td>148.462</td> <td>1             </td> <td>4   </td> <td>0   </td> <td>189.805 </td> <td>43.6454    </td> <td>-87.3372   </td> <td>41.0516    </td> <td>7.81477    </td> <td>-12.9898   </td> <td>-14.2536   </td> <td>6.12605    </td> <td>-2.44866   </td> <td>22.6917    </td> <td>-2.87271    </td> <td>1.42772     </td> <td>-6.71073    </td> <td>22.7048    </td> <td>1561.31    </td> <td>2007.65    </td> <td>1043.47    </td> <td>585.695    </td> <td>564.014    </td> <td>510.177    </td> <td>400.2      </td> <td>365.12     </td> <td>238.1       </td> <td>197.934     </td> <td>251.578     </td> <td>6363.5  </td>\n",
       "        </tr>\n",
       "        <tr>\n",
       "            <td>classic pop and rock</td> <td>TRLFJHA128F427AEEA</td> <td>Blue Oyster Cult</td> <td>Dance The Night Away   </td> <td>-13.494 </td> <td>112.909</td> <td>1             </td> <td>10  </td> <td>0   </td> <td>158.197 </td> <td>37.5735    </td> <td>-61.202    </td> <td>28.7605    </td> <td>-13.7881   </td> <td>10.0623    </td> <td>-4.87203   </td> <td>-14.0902   </td> <td>5.58017    </td> <td>15.414     </td> <td>4.55614     </td> <td>-1.87736    </td> <td>20.8795     </td> <td>58.4596    </td> <td>4644       </td> <td>1204.86    </td> <td>2736.52    </td> <td>730.233    </td> <td>665.203    </td> <td>535.775    </td> <td>439.335    </td> <td>486.823    </td> <td>265.334     </td> <td>447.098     </td> <td>251.881     </td> <td>3661.19 </td>\n",
       "        </tr>\n",
       "        <tr>\n",
       "            <td>classic pop and rock</td> <td>TRCQZAG128F427DB97</td> <td>Blue Oyster Cult</td> <td>Debbie Denise          </td> <td>-12.786 </td> <td>117.429</td> <td>4             </td> <td>7   </td> <td>1   </td> <td>250.226 </td> <td>42.5666    </td> <td>17.2179    </td> <td>53.4842    </td> <td>1.56436    </td> <td>-8.88463   </td> <td>-13.0889   </td> <td>-9.76262   </td> <td>1.37377    </td> <td>1.09288    </td> <td>1.47949     </td> <td>1.51701     </td> <td>8.56262     </td> <td>22.5755    </td> <td>691.141    </td> <td>809.756    </td> <td>563.908    </td> <td>492.804    </td> <td>378.383    </td> <td>372.875    </td> <td>231.942    </td> <td>246.313    </td> <td>168.4       </td> <td>85.2825     </td> <td>339.897     </td> <td>7195.76 </td>\n",
       "        </tr>\n",
       "        <tr>\n",
       "            <td>classic pop and rock</td> <td>TRNXMNM128F427DB8C</td> <td>Blue Oyster Cult</td> <td>(Don't Fear) The Reaper</td> <td>-14.093 </td> <td>141.536</td> <td>4             </td> <td>9   </td> <td>0   </td> <td>307.069 </td> <td>40.9765    </td> <td>-13.6098   </td> <td>39.5662    </td> <td>-5.60203   </td> <td>-17.7548   </td> <td>-21.8333   </td> <td>-5.60073   </td> <td>2.29177    </td> <td>3.52618    </td> <td>1.53545     </td> <td>2.76396     </td> <td>3.38876     </td> <td>34.295     </td> <td>1062.18    </td> <td>1093.68    </td> <td>343.556    </td> <td>889.163    </td> <td>218.112    </td> <td>304.863    </td> <td>178.352    </td> <td>440.479    </td> <td>142.669     </td> <td>81.0613     </td> <td>208.355     </td> <td>6821.79 </td>\n",
       "        </tr>\n",
       "    </tbody>\n",
       "</table>"
      ],
      "text/plain": [
       "genre                | track_id           | artist_name      | title                   | loudness | tempo   | time_signature | key  | mode | duration | avg_timbre1 | avg_timbre2 | avg_timbre3 | avg_timbre4 | avg_timbre5 | avg_timbre6 | avg_timbre7 | avg_timbre8 | avg_timbre9 | avg_timbre10 | avg_timbre11 | avg_timbre12 | var_timbre1 | var_timbre2 | var_timbre3 | var_timbre4 | var_timbre5 | var_timbre6 | var_timbre7 | var_timbre8 | var_timbre9 | var_timbre10 | var_timbre11 | var_timbre12 | distance\n",
       "classic pop and rock | TRFCOOU128F427AEC0 | Blue Oyster Cult | Mes Dames Sarat         | -8.697   | 155.007 | 1              | 9    | 1    | 246.334  | 46.6731     | 14.6137     | 14.6642     | 0.176561    | -9.34638    | -12.3417    | 11.1834     | 7.40529     | 9.31377     | 3.20117      | -0.152734    | 5.80971      | 14.9308     | 802.206     | 1255.51     | 580.03      | 598.485     | 575.338     | 322.069     | 321.726     | 232.701     | 186.805      | 181.939      | 151.508      | 7077.95\n",
       "classic pop and rock | TRNJTPB128F427AE9F | Blue Oyster Cult | Screams                 | -10.659  | 148.462 | 1              | 4    | 0    | 189.805  | 43.6454     | -87.3372    | 41.0516     | 7.81477     | -12.9898    | -14.2536    | 6.12605     | -2.44866    | 22.6917     | -2.87271     | 1.42772      | -6.71073     | 22.7048     | 1561.31     | 2007.65     | 1043.47     | 585.695     | 564.014     | 510.177     | 400.2       | 365.12      | 238.1        | 197.934      | 251.578      | 6363.5\n",
       "classic pop and rock | TRLFJHA128F427AEEA | Blue Oyster Cult | Dance The Night Away    | -13.494  | 112.909 | 1              | 10   | 0    | 158.197  | 37.5735     | -61.202     | 28.7605     | -13.7881    | 10.0623     | -4.87203    | -14.0902    | 5.58017     | 15.414      | 4.55614      | -1.87736     | 20.8795      | 58.4596     | 4644        | 1204.86     | 2736.52     | 730.233     | 665.203     | 535.775     | 439.335     | 486.823     | 265.334      | 447.098      | 251.881      | 3661.19\n",
       "classic pop and rock | TRCQZAG128F427DB97 | Blue Oyster Cult | Debbie Denise           | -12.786  | 117.429 | 4              | 7    | 1    | 250.226  | 42.5666     | 17.2179     | 53.4842     | 1.56436     | -8.88463    | -13.0889    | -9.76262    | 1.37377     | 1.09288     | 1.47949      | 1.51701      | 8.56262      | 22.5755     | 691.141     | 809.756     | 563.908     | 492.804     | 378.383     | 372.875     | 231.942     | 246.313     | 168.4        | 85.2825      | 339.897      | 7195.76\n",
       "classic pop and rock | TRNXMNM128F427DB8C | Blue Oyster Cult | (Don't Fear) The Reaper | -14.093  | 141.536 | 4              | 9    | 0    | 307.069  | 40.9765     | -13.6098    | 39.5662     | -5.60203    | -17.7548    | -21.8333    | -5.60073    | 2.29177     | 3.52618     | 1.53545      | 2.76396      | 3.38876      | 34.295      | 1062.18     | 1093.68     | 343.556     | 889.163     | 218.112     | 304.863     | 178.352     | 440.479     | 142.669      | 81.0613      | 208.355      | 6821.79"
      ]
     },
     "execution_count": 55,
     "metadata": {},
     "output_type": "execute_result"
    }
   ],
   "source": [
    "example_song = songs.drop('genre','title','artist_name','track_id','genre').row(9)\n",
    "example_song\n",
    "\n",
    "closest(songs.exclude(9),example_song,5)"
   ]
  },
  {
   "cell_type": "code",
   "execution_count": 56,
   "metadata": {},
   "outputs": [
    {
     "data": {
      "text/plain": [
       "'classic pop and rock'"
      ]
     },
     "execution_count": 56,
     "metadata": {},
     "output_type": "execute_result"
    }
   ],
   "source": [
    "classify(songs.exclude(9), example_song, 5)"
   ]
  },
  {
   "cell_type": "code",
   "execution_count": 46,
   "metadata": {},
   "outputs": [
    {
     "data": {
      "text/plain": [
       "59600"
      ]
     },
     "execution_count": 46,
     "metadata": {},
     "output_type": "execute_result"
    }
   ],
   "source": [
    "songs.num_rows"
   ]
  },
  {
   "cell_type": "code",
   "execution_count": 68,
   "metadata": {},
   "outputs": [],
   "source": [
    "def evaluate_accuracy(training, test, k):\n",
    "    test_attributes = songs.drop('genre','title','artist_name','track_id','genre')\n",
    "    numcorrect = 0\n",
    "    for i in range(test.num_rows):\n",
    "        test_song = test_attributes.row(i)\n",
    "        c = classify(training, test_song, k)\n",
    "        if c == test.column('genre').item(i):\n",
    "            numcorrect = numcorrect + 1\n",
    "    return numcorrect / test.num_rows\n",
    "\n",
    "shuffled = songs.sample(with_replacement=False)"
   ]
  },
  {
   "cell_type": "code",
   "execution_count": null,
   "metadata": {},
   "outputs": [],
   "source": [
    "trainset = shuffled.take(range(0,29800))\n",
    "testset = shuffled.take(range(29800, 59600))\n",
    "evaluate_accuracy(trainset,testset,1)"
   ]
  },
  {
   "cell_type": "code",
   "execution_count": 69,
   "metadata": {},
   "outputs": [
    {
     "data": {
      "text/plain": [
       "0.406"
      ]
     },
     "execution_count": 69,
     "metadata": {},
     "output_type": "execute_result"
    }
   ],
   "source": [
    "trainset_tiny = shuffled.take(range(0,500))\n",
    "testset_tiny = shuffled.take(range(500, 1000))\n",
    "evaluate_accuracy(trainset_tiny,testset_tiny,5)"
   ]
  },
  {
   "cell_type": "code",
   "execution_count": 100,
   "metadata": {},
   "outputs": [
    {
     "name": "stdout",
     "output_type": "stream",
     "text": [
      "[0, 65, 723, 3109, 4362, 2521, 7, 2808, 3695, 3853, 1733, 3199, 4162, 508, 52, 3044, 1761, 2211, 4153, 3888, 1286, 3195, 2593, 2552, 632, 4014, 35, 64, 3805, 3831, 1289, 3437, 712, 4695, 4866, 4678, 3858, 3568, 3570, 3072, 4378, 4127, 900, 4868, 4272, 4732, 3053, 2581, 857, 4456, 69, 4445, 911, 3757, 3057, 4236, 667, 1619, 4213, 2607, 3765, 4832, 2207, 1402, 3051, 4869, 598, 2810, 721, 824, 4806, 474, 4752, 4809, 1681, 2897, 4798, 2060, 3076, 2582, 2884, 2404, 4654, 3986, 2142, 4556, 4644, 4471, 4485, 41, 2898, 2965, 2930, 3160, 1287, 4770, 4092, 715, 3576, 3636, 1339, 4455, 2610, 4659, 4873, 1598, 96, 1208, 4207, 657, 4144, 3766, 2891, 2063, 2588, 1079, 4147, 30, 4173, 656, 2933, 4474, 2597, 2585, 36, 2446, 2793, 2390, 145, 3582, 2388, 919, 1231, 4917, 854, 1033, 3572, 4276, 4372, 2986, 2924, 1815, 3994, 1754, 4228, 2387, 983, 4780, 811, 4870, 957, 4104, 1019, 2345, 1131, 2955, 4916, 3908, 707, 1791, 175, 3059, 2937, 82, 4473, 3615, 2948, 3591, 3814, 4369, 1708, 2216, 2956, 3729, 4795, 2074, 838, 4648, 4923, 1382, 4518, 3047, 4915, 2441, 1212, 3815, 3887, 1629, 4208, 4932, 200, 3620, 4122, 4634, 1237, 4479, 2950, 2580, 1467, 1130, 4579, 3862, 1856, 2514, 3042, 2232, 2215, 4943, 829, 630, 2802, 4112, 1025, 2847, 3749, 2393, 2922, 172, 3742, 92, 2565, 577, 3034, 797, 187, 990, 3449, 1846, 4944, 4446, 4516, 924, 4200, 3863, 4933, 3866, 3485, 1694, 2596, 4771, 816, 654, 3214, 3192, 455, 917, 956, 942, 920, 2586, 2990, 847, 673, 1022, 836, 3031, 4891, 396, 2558, 1615, 809, 4620, 1288, 1017, 4212, 2929, 3638, 4499, 3758, 581, 1225, 4454, 3054, 75, 652, 659, 582, 1810, 828, 3168, 1046, 282, 3468, 3905, 3847, 1421, 1578, 4521, 4108, 4177, 3909, 1793, 1994, 1015, 4273, 3444, 1744, 3074, 702, 408, 1417, 808, 2082, 4995, 3500, 3360, 2168, 3735, 3681, 179, 1644, 4083, 2109, 4588, 933, 440, 1234, 2974, 1814, 1844, 4113, 436, 4652, 4638, 2206, 4370, 3317, 1010, 1154, 2111, 1790, 264, 2916, 2803, 3797, 1552, 1727, 1034, 1045, 835, 984, 2112, 1241, 3578, 77, 2568, 4864, 1669, 3041, 4166, 1200, 4710, 4657, 4928, 1181, 3091, 1838, 1207, 91, 1172, 4898, 1746, 4600, 3602, 24, 4718, 2594, 2877, 3722, 4368, 4551, 806, 157, 2598, 1660, 2528, 625, 3237, 937, 2140, 2425, 4201, 3569, 1763, 1683, 2234, 4134, 3779, 1431, 2538, 4301, 3645, 1415, 2449, 1620, 2954, 612, 4646, 1199, 450, 1867, 1210, 2805, 4493, 61, 3611, 4143, 473, 4039, 4649, 2865, 4523, 622, 4706, 2595, 4909, 4165, 4181, 3859, 4529, 4371, 3753, 4271, 1255, 2915, 1748, 113, 2233, 2064, 1099, 3822, 1390, 3690, 4626, 2078, 2971, 2231, 3751, 2850, 3674, 2086, 813, 2509, 719, 703, 3329, 4825, 820, 3381, 4921, 3721, 493, 2880, 3964, 916, 4850, 1616, 4727, 4110, 591, 932, 4642, 2584, 2091, 2912, 1684, 1209, 2874, 2395, 4054, 1755, 2310, 1454, 4278, 1024, 2841, 2962, 4093, 603, 1903, 4472, 3463, 1990, 928, 807, 2544, 3414, 1014, 812, 4463, 4715, 2902, 4132, 2100, 892, 2005, 4940, 3829, 3246, 3456, 1659, 4129, 3610, 1498, 1368, 242, 4295, 716, 4950, 3790, 3194, 3684, 3736, 856, 1103, 3267, 3613, 4264, 921, 2827, 43, 700, 3907, 3434, 605, 3186, 4879, 908, 4148, 4884, 4163, 2224, 3821, 680, 3077, 4128, 2147, 4564, 3420, 1362, 4216, 1804, 4867, 686, 3330, 3634, 195, 2394, 3891, 3029, 3512, 429, 4174, 2989, 4987, 2529, 4664, 668, 2048, 2872, 2117, 2018, 304, 1102, 4849, 403, 2015, 1847, 2107, 2114, 186, 415, 1531, 171, 2910, 3061, 3724, 2911, 2127, 4475, 4175, 1743, 4810, 2285, 2069, 3571, 918, 3771, 1157, 111, 1759, 2947, 1752, 4900, 2409, 451, 1264, 2135, 3215, 4662, 2892, 4766, 1537, 1439, 665, 3796, 2337, 2160, 4063, 4782, 3290, 4172, 2890, 631, 4682, 3595, 4464, 4794, 588, 1766, 4088, 4871, 563, 2227, 1735, 1214, 683, 411, 1806, 2878, 2949, 1789, 584, 444, 955, 4773, 2167, 529, 1, 178, 3622, 4141, 3525, 2879, 1055, 992, 666, 4192, 4875, 849, 4171, 433, 3036, 724, 3575, 3752, 687, 1737, 4015, 1060, 228, 2907, 2024, 14, 4483, 2959, 176, 1625, 2476, 3627, 4547, 2882, 4294, 3769, 3242, 2861, 2795, 4154, 903, 2957, 4559, 725, 747, 2967, 738, 912, 1781, 674, 1125, 947, 4425, 1980, 4074, 1855, 899, 2925, 1277, 987, 3612, 733, 79, 4399, 1294, 3550, 1196, 3767, 2083, 832, 1253, 4760, 1650, 640, 1719, 1718, 1643, 4436, 1101, 1129, 4106, 2101, 2617, 2312, 2909, 4145, 4204, 729, 4818, 2527, 684, 4704, 1661, 568, 1558, 4379, 454, 3092, 1398, 3775, 4045, 2380, 3750, 967, 3816, 2219, 10, 3328, 4500, 2458, 4196, 746, 966, 3243, 4209, 2508, 758, 1729, 4524, 3058, 3244, 2675, 1709, 3842, 4275, 676, 821, 914, 3709, 615, 4490, 2067, 389, 4107, 1762, 1560, 4075, 3531, 565, 2526, 4650, 4985, 3062, 3239, 3495, 22, 2602, 701, 3337, 1842, 1474, 2970, 2931, 226, 2979, 1054, 2845, 1894, 1546, 1652, 1409, 1281, 1704, 2804, 110, 2516, 3785, 3581, 89, 533, 1527, 1206, 3490, 4103, 4755, 2110, 2205, 876, 3885, 133, 3488, 1032, 46, 2276, 2212, 1883, 4658, 981, 1902, 2400, 2901, 2204, 880, 2053, 2615, 926, 1545, 4042, 4544, 1333, 3777, 943, 1731, 17, 532, 2858, 4700, 1589, 1848, 3024, 4860, 2076, 3782, 1953, 3427, 3522, 3745, 1071, 4198, 4199, 3748, 4061, 2423, 3496, 2414, 3112, 986, 573, 3325, 2007, 4786, 531, 2914, 898, 4903, 2116, 3197, 1933, 2510, 1895, 4675, 4167, 4527, 4126, 4670, 4478, 3687, 1189, 2104, 750, 2013, 4942, 1240, 6, 2129, 4851, 4058, 1663, 3316, 3, 1482, 442, 1280, 1098, 4115, 4282, 3606, 1228, 4095, 710, 4494, 4702, 4631, 4853, 760, 2600, 3589, 1623, 2123, 4651, 5, 4761, 1845, 4289, 4503, 4630, 1738, 4929, 2070, 1604, 2651, 2859, 3060, 1888, 922, 682, 1627, 4086, 339, 4655, 4176, 3285, 4449, 1785, 675, 2001, 3628, 1052, 2154, 4109, 3747, 3045, 3800, 4149, 1151, 1682, 4836, 1028, 3052, 3030, 658, 3421, 4895, 935, 1655, 698, 4009, 4385, 2419, 722, 40, 343, 958, 4756, 4041, 1038, 4453, 3269, 4553, 3521, 2599, 4906, 3252, 4902, 3358, 3566, 4105, 146, 976, 1284, 1105, 1905, 1058, 2556, 2840, 72, 4896, 1639, 805, 3608, 2619, 4729]\n"
     ]
    }
   ],
   "source": [
    "f = 30\n",
    "t = AnnoyIndex(f)  # Length of item vector that will be indexed\n",
    "for i in range(5000):\n",
    "    song = songs.drop('genre','title','artist_name','track_id','genre').take(i).to_array()[0]\n",
    "    t.add_item(i, song)\n",
    "\n",
    "t.build(10) # 10 trees\n",
    "# t.save('test.ann')\n",
    "\n",
    "# u = AnnoyIndex(f)\n",
    "# u.load('test.ann') # super fast, will just mmap the file\n",
    "print(t.get_nns_by_item(0, 1000)) # will find the 1000 nearest neighbors"
   ]
  },
  {
   "cell_type": "code",
   "execution_count": 107,
   "metadata": {},
   "outputs": [
    {
     "name": "stdout",
     "output_type": "stream",
     "text": [
      "genre                | artist_name      | title\n",
      "classic pop and rock | Blue Oyster Cult | Mes Dames Sarat\n",
      "genre                | artist_name      | title\n",
      "classic pop and rock | Blue Oyster Cult | Mes Dames Sarat\n",
      "genre                | artist_name         | title\n",
      "classic pop and rock | The Pointer Sisters | Neutron Dance\n"
     ]
    }
   ],
   "source": [
    "print(songs.take(0).select('genre', 'artist_name', 'title'))\n",
    "print(songs.take(65).select('genre', 'artist_name', 'title'))\n",
    "print(songs.take(723).select('genre', 'artist_name', 'title'))"
   ]
  },
  {
   "cell_type": "code",
   "execution_count": 109,
   "metadata": {},
   "outputs": [
    {
     "data": {
      "text/html": [
       "<table border=\"1\" class=\"dataframe\">\n",
       "    <thead>\n",
       "        <tr>\n",
       "            <th>genre</th> <th>track_id</th> <th>artist_name</th> <th>title</th> <th>loudness</th> <th>tempo</th> <th>time_signature</th> <th>key</th> <th>mode</th> <th>duration</th> <th>avg_timbre1</th> <th>avg_timbre2</th> <th>avg_timbre3</th> <th>avg_timbre4</th> <th>avg_timbre5</th> <th>avg_timbre6</th> <th>avg_timbre7</th> <th>avg_timbre8</th> <th>avg_timbre9</th> <th>avg_timbre10</th> <th>avg_timbre11</th> <th>avg_timbre12</th> <th>var_timbre1</th> <th>var_timbre2</th> <th>var_timbre3</th> <th>var_timbre4</th> <th>var_timbre5</th> <th>var_timbre6</th> <th>var_timbre7</th> <th>var_timbre8</th> <th>var_timbre9</th> <th>var_timbre10</th> <th>var_timbre11</th> <th>var_timbre12</th>\n",
       "        </tr>\n",
       "    </thead>\n",
       "    <tbody>\n",
       "    </tbody>\n",
       "</table>"
      ],
      "text/plain": [
       "genre | track_id | artist_name | title | loudness | tempo | time_signature | key  | mode | duration | avg_timbre1 | avg_timbre2 | avg_timbre3 | avg_timbre4 | avg_timbre5 | avg_timbre6 | avg_timbre7 | avg_timbre8 | avg_timbre9 | avg_timbre10 | avg_timbre11 | avg_timbre12 | var_timbre1 | var_timbre2 | var_timbre3 | var_timbre4 | var_timbre5 | var_timbre6 | var_timbre7 | var_timbre8 | var_timbre9 | var_timbre10 | var_timbre11 | var_timbre12"
      ]
     },
     "execution_count": 109,
     "metadata": {},
     "output_type": "execute_result"
    }
   ],
   "source": [
    "songs.where('artist_name','ghost')"
   ]
  }
 ],
 "metadata": {
  "kernelspec": {
   "display_name": "Python 3",
   "language": "python",
   "name": "python3"
  },
  "language_info": {
   "codemirror_mode": {
    "name": "ipython",
    "version": 3
   },
   "file_extension": ".py",
   "mimetype": "text/x-python",
   "name": "python",
   "nbconvert_exporter": "python",
   "pygments_lexer": "ipython3",
   "version": "3.7.1"
  }
 },
 "nbformat": 4,
 "nbformat_minor": 2
}
